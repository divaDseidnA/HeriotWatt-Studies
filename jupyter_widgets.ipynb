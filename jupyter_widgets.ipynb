{
  "nbformat": 4,
  "nbformat_minor": 0,
  "metadata": {
    "colab": {
      "name": "jupyter_widgets.ipynb",
      "provenance": [],
      "collapsed_sections": [],
      "include_colab_link": true
    },
    "kernelspec": {
      "name": "python3",
      "display_name": "Python 3"
    },
    "language_info": {
      "name": "python"
    },
    "widgets": {
      "application/vnd.jupyter.widget-state+json": {
        "19284b745f734811a962e4d4ef5b4f96": {
          "model_module": "@jupyter-widgets/controls",
          "model_name": "VBoxModel",
          "state": {
            "_view_name": "VBoxView",
            "_dom_classes": [],
            "_model_name": "VBoxModel",
            "_view_module": "@jupyter-widgets/controls",
            "_model_module_version": "1.5.0",
            "_view_count": null,
            "_view_module_version": "1.5.0",
            "box_style": "",
            "layout": "IPY_MODEL_63dcb12389c2493bb3fa014112bc4533",
            "_model_module": "@jupyter-widgets/controls",
            "children": [
              "IPY_MODEL_0150a12b539c4e9a9f2a33a9b9e3850d",
              "IPY_MODEL_72c2b32f65d341bc94f9478ae12ece28"
            ]
          },
          "model_module_version": "1.5.0"
        },
        "63dcb12389c2493bb3fa014112bc4533": {
          "model_module": "@jupyter-widgets/base",
          "model_name": "LayoutModel",
          "state": {
            "_view_name": "LayoutView",
            "grid_template_rows": null,
            "right": null,
            "justify_content": null,
            "_view_module": "@jupyter-widgets/base",
            "overflow": null,
            "_model_module_version": "1.2.0",
            "_view_count": null,
            "flex_flow": null,
            "width": null,
            "min_width": null,
            "border": null,
            "align_items": null,
            "bottom": null,
            "_model_module": "@jupyter-widgets/base",
            "top": null,
            "grid_column": null,
            "overflow_y": null,
            "overflow_x": null,
            "grid_auto_flow": null,
            "grid_area": null,
            "grid_template_columns": null,
            "flex": null,
            "_model_name": "LayoutModel",
            "justify_items": null,
            "grid_row": null,
            "max_height": null,
            "align_content": null,
            "visibility": null,
            "align_self": null,
            "height": null,
            "min_height": null,
            "padding": null,
            "grid_auto_rows": null,
            "grid_gap": null,
            "max_width": null,
            "order": null,
            "_view_module_version": "1.2.0",
            "grid_template_areas": null,
            "object_position": null,
            "object_fit": null,
            "grid_auto_columns": null,
            "margin": null,
            "display": null,
            "left": null
          },
          "model_module_version": "1.2.0"
        },
        "0150a12b539c4e9a9f2a33a9b9e3850d": {
          "model_module": "@jupyter-widgets/controls",
          "model_name": "TextModel",
          "state": {
            "_view_name": "TextView",
            "style": "IPY_MODEL_56df7ce0ff9845c59c80928e129e76e4",
            "_dom_classes": [],
            "description": "Text - ",
            "_model_name": "TextModel",
            "placeholder": "​",
            "_view_module": "@jupyter-widgets/controls",
            "_model_module_version": "1.5.0",
            "value": "Hello",
            "_view_count": null,
            "disabled": false,
            "_view_module_version": "1.5.0",
            "continuous_update": true,
            "description_tooltip": null,
            "_model_module": "@jupyter-widgets/controls",
            "layout": "IPY_MODEL_a28060341f3748269900197a4f4508c1"
          },
          "model_module_version": "1.5.0"
        },
        "72c2b32f65d341bc94f9478ae12ece28": {
          "model_module": "@jupyter-widgets/output",
          "model_name": "OutputModel",
          "state": {
            "_view_name": "OutputView",
            "msg_id": "",
            "_dom_classes": [],
            "_model_name": "OutputModel",
            "outputs": [
              {
                "output_type": "display_data",
                "metadata": {
                  "tags": []
                },
                "application/vnd.google.colaboratory.intrinsic+json": {
                  "type": "string"
                },
                "text/plain": "'Entered value - Hello'"
              }
            ],
            "_view_module": "@jupyter-widgets/output",
            "_model_module_version": "1.0.0",
            "_view_count": null,
            "_view_module_version": "1.0.0",
            "layout": "IPY_MODEL_76f942b87c6e48f8875c4819e62bfacd",
            "_model_module": "@jupyter-widgets/output"
          },
          "model_module_version": "1.0.0"
        },
        "56df7ce0ff9845c59c80928e129e76e4": {
          "model_module": "@jupyter-widgets/controls",
          "model_name": "DescriptionStyleModel",
          "state": {
            "_view_name": "StyleView",
            "_model_name": "DescriptionStyleModel",
            "description_width": "",
            "_view_module": "@jupyter-widgets/base",
            "_model_module_version": "1.5.0",
            "_view_count": null,
            "_view_module_version": "1.2.0",
            "_model_module": "@jupyter-widgets/controls"
          },
          "model_module_version": "1.5.0"
        },
        "a28060341f3748269900197a4f4508c1": {
          "model_module": "@jupyter-widgets/base",
          "model_name": "LayoutModel",
          "state": {
            "_view_name": "LayoutView",
            "grid_template_rows": null,
            "right": null,
            "justify_content": null,
            "_view_module": "@jupyter-widgets/base",
            "overflow": null,
            "_model_module_version": "1.2.0",
            "_view_count": null,
            "flex_flow": null,
            "width": null,
            "min_width": null,
            "border": null,
            "align_items": null,
            "bottom": null,
            "_model_module": "@jupyter-widgets/base",
            "top": null,
            "grid_column": null,
            "overflow_y": null,
            "overflow_x": null,
            "grid_auto_flow": null,
            "grid_area": null,
            "grid_template_columns": null,
            "flex": null,
            "_model_name": "LayoutModel",
            "justify_items": null,
            "grid_row": null,
            "max_height": null,
            "align_content": null,
            "visibility": null,
            "align_self": null,
            "height": null,
            "min_height": null,
            "padding": null,
            "grid_auto_rows": null,
            "grid_gap": null,
            "max_width": null,
            "order": null,
            "_view_module_version": "1.2.0",
            "grid_template_areas": null,
            "object_position": null,
            "object_fit": null,
            "grid_auto_columns": null,
            "margin": null,
            "display": null,
            "left": null
          },
          "model_module_version": "1.2.0"
        },
        "76f942b87c6e48f8875c4819e62bfacd": {
          "model_module": "@jupyter-widgets/base",
          "model_name": "LayoutModel",
          "state": {
            "_view_name": "LayoutView",
            "grid_template_rows": null,
            "right": null,
            "justify_content": null,
            "_view_module": "@jupyter-widgets/base",
            "overflow": null,
            "_model_module_version": "1.2.0",
            "_view_count": null,
            "flex_flow": null,
            "width": null,
            "min_width": null,
            "border": null,
            "align_items": null,
            "bottom": null,
            "_model_module": "@jupyter-widgets/base",
            "top": null,
            "grid_column": null,
            "overflow_y": null,
            "overflow_x": null,
            "grid_auto_flow": null,
            "grid_area": null,
            "grid_template_columns": null,
            "flex": null,
            "_model_name": "LayoutModel",
            "justify_items": null,
            "grid_row": null,
            "max_height": null,
            "align_content": null,
            "visibility": null,
            "align_self": null,
            "height": null,
            "min_height": null,
            "padding": null,
            "grid_auto_rows": null,
            "grid_gap": null,
            "max_width": null,
            "order": null,
            "_view_module_version": "1.2.0",
            "grid_template_areas": null,
            "object_position": null,
            "object_fit": null,
            "grid_auto_columns": null,
            "margin": null,
            "display": null,
            "left": null
          },
          "model_module_version": "1.2.0"
        },
        "ad9678c0bd9e47b9a2889b0f934ff603": {
          "model_module": "@jupyter-widgets/controls",
          "model_name": "IntSliderModel",
          "model_module_version": "1.5.0",
          "state": {
            "_dom_classes": [],
            "_model_module": "@jupyter-widgets/controls",
            "_model_module_version": "1.5.0",
            "_model_name": "IntSliderModel",
            "_view_count": null,
            "_view_module": "@jupyter-widgets/controls",
            "_view_module_version": "1.5.0",
            "_view_name": "IntSliderView",
            "continuous_update": true,
            "description": "",
            "description_tooltip": null,
            "disabled": false,
            "layout": "IPY_MODEL_a69fbb3999114ccb9c386727c9f09cc9",
            "max": 100,
            "min": 0,
            "orientation": "horizontal",
            "readout": true,
            "readout_format": "d",
            "step": 1,
            "style": "IPY_MODEL_4266a23582914ace93156c32bd4390e2",
            "value": 53
          }
        },
        "a69fbb3999114ccb9c386727c9f09cc9": {
          "model_module": "@jupyter-widgets/base",
          "model_name": "LayoutModel",
          "model_module_version": "1.2.0",
          "state": {
            "_model_module": "@jupyter-widgets/base",
            "_model_module_version": "1.2.0",
            "_model_name": "LayoutModel",
            "_view_count": null,
            "_view_module": "@jupyter-widgets/base",
            "_view_module_version": "1.2.0",
            "_view_name": "LayoutView",
            "align_content": null,
            "align_items": null,
            "align_self": null,
            "border": null,
            "bottom": null,
            "display": null,
            "flex": null,
            "flex_flow": null,
            "grid_area": null,
            "grid_auto_columns": null,
            "grid_auto_flow": null,
            "grid_auto_rows": null,
            "grid_column": null,
            "grid_gap": null,
            "grid_row": null,
            "grid_template_areas": null,
            "grid_template_columns": null,
            "grid_template_rows": null,
            "height": null,
            "justify_content": null,
            "justify_items": null,
            "left": null,
            "margin": null,
            "max_height": null,
            "max_width": null,
            "min_height": null,
            "min_width": null,
            "object_fit": null,
            "object_position": null,
            "order": null,
            "overflow": null,
            "overflow_x": null,
            "overflow_y": null,
            "padding": null,
            "right": null,
            "top": null,
            "visibility": null,
            "width": null
          }
        },
        "4266a23582914ace93156c32bd4390e2": {
          "model_module": "@jupyter-widgets/controls",
          "model_name": "SliderStyleModel",
          "model_module_version": "1.5.0",
          "state": {
            "_model_module": "@jupyter-widgets/controls",
            "_model_module_version": "1.5.0",
            "_model_name": "SliderStyleModel",
            "_view_count": null,
            "_view_module": "@jupyter-widgets/base",
            "_view_module_version": "1.2.0",
            "_view_name": "StyleView",
            "description_width": "",
            "handle_color": null
          }
        },
        "26a14f27fe0f4006a72896d421f5f492": {
          "model_module": "@jupyter-widgets/controls",
          "model_name": "ButtonModel",
          "model_module_version": "1.5.0",
          "state": {
            "_dom_classes": [],
            "_model_module": "@jupyter-widgets/controls",
            "_model_module_version": "1.5.0",
            "_model_name": "ButtonModel",
            "_view_count": null,
            "_view_module": "@jupyter-widgets/controls",
            "_view_module_version": "1.5.0",
            "_view_name": "ButtonView",
            "button_style": "",
            "description": "Widget",
            "disabled": false,
            "icon": "",
            "layout": "IPY_MODEL_e4449a0ee6114daab5e5aa1ce09eeb01",
            "style": "IPY_MODEL_8c928d52fb65491cadb497e779dbbcba",
            "tooltip": ""
          }
        },
        "e4449a0ee6114daab5e5aa1ce09eeb01": {
          "model_module": "@jupyter-widgets/base",
          "model_name": "LayoutModel",
          "model_module_version": "1.2.0",
          "state": {
            "_model_module": "@jupyter-widgets/base",
            "_model_module_version": "1.2.0",
            "_model_name": "LayoutModel",
            "_view_count": null,
            "_view_module": "@jupyter-widgets/base",
            "_view_module_version": "1.2.0",
            "_view_name": "LayoutView",
            "align_content": null,
            "align_items": null,
            "align_self": null,
            "border": null,
            "bottom": null,
            "display": null,
            "flex": null,
            "flex_flow": null,
            "grid_area": null,
            "grid_auto_columns": null,
            "grid_auto_flow": null,
            "grid_auto_rows": null,
            "grid_column": null,
            "grid_gap": null,
            "grid_row": null,
            "grid_template_areas": null,
            "grid_template_columns": null,
            "grid_template_rows": null,
            "height": null,
            "justify_content": null,
            "justify_items": null,
            "left": null,
            "margin": null,
            "max_height": null,
            "max_width": null,
            "min_height": null,
            "min_width": null,
            "object_fit": null,
            "object_position": null,
            "order": null,
            "overflow": null,
            "overflow_x": null,
            "overflow_y": null,
            "padding": null,
            "right": null,
            "top": null,
            "visibility": null,
            "width": null
          }
        },
        "8c928d52fb65491cadb497e779dbbcba": {
          "model_module": "@jupyter-widgets/controls",
          "model_name": "ButtonStyleModel",
          "model_module_version": "1.5.0",
          "state": {
            "_model_module": "@jupyter-widgets/controls",
            "_model_module_version": "1.5.0",
            "_model_name": "ButtonStyleModel",
            "_view_count": null,
            "_view_module": "@jupyter-widgets/base",
            "_view_module_version": "1.2.0",
            "_view_name": "StyleView",
            "button_color": null,
            "font_weight": ""
          }
        },
        "7c8b3e8c83644214869d8fb2921544cd": {
          "model_module": "@jupyter-widgets/controls",
          "model_name": "DropdownModel",
          "model_module_version": "1.5.0",
          "state": {
            "_dom_classes": [],
            "_model_module": "@jupyter-widgets/controls",
            "_model_module_version": "1.5.0",
            "_model_name": "DropdownModel",
            "_options_labels": [
              "None",
              "DF head",
              "DF info"
            ],
            "_view_count": null,
            "_view_module": "@jupyter-widgets/controls",
            "_view_module_version": "1.5.0",
            "_view_name": "DropdownView",
            "description": "",
            "description_tooltip": null,
            "disabled": false,
            "index": 1,
            "layout": "IPY_MODEL_07949f26ee644107832ea6296213a177",
            "style": "IPY_MODEL_af6911ec84d743d88e94bdad1490cf13"
          }
        },
        "07949f26ee644107832ea6296213a177": {
          "model_module": "@jupyter-widgets/base",
          "model_name": "LayoutModel",
          "model_module_version": "1.2.0",
          "state": {
            "_model_module": "@jupyter-widgets/base",
            "_model_module_version": "1.2.0",
            "_model_name": "LayoutModel",
            "_view_count": null,
            "_view_module": "@jupyter-widgets/base",
            "_view_module_version": "1.2.0",
            "_view_name": "LayoutView",
            "align_content": null,
            "align_items": null,
            "align_self": null,
            "border": null,
            "bottom": null,
            "display": null,
            "flex": null,
            "flex_flow": null,
            "grid_area": null,
            "grid_auto_columns": null,
            "grid_auto_flow": null,
            "grid_auto_rows": null,
            "grid_column": null,
            "grid_gap": null,
            "grid_row": null,
            "grid_template_areas": null,
            "grid_template_columns": null,
            "grid_template_rows": null,
            "height": null,
            "justify_content": null,
            "justify_items": null,
            "left": null,
            "margin": null,
            "max_height": null,
            "max_width": null,
            "min_height": null,
            "min_width": null,
            "object_fit": null,
            "object_position": null,
            "order": null,
            "overflow": null,
            "overflow_x": null,
            "overflow_y": null,
            "padding": null,
            "right": null,
            "top": null,
            "visibility": null,
            "width": null
          }
        },
        "af6911ec84d743d88e94bdad1490cf13": {
          "model_module": "@jupyter-widgets/controls",
          "model_name": "DescriptionStyleModel",
          "model_module_version": "1.5.0",
          "state": {
            "_model_module": "@jupyter-widgets/controls",
            "_model_module_version": "1.5.0",
            "_model_name": "DescriptionStyleModel",
            "_view_count": null,
            "_view_module": "@jupyter-widgets/base",
            "_view_module_version": "1.2.0",
            "_view_name": "StyleView",
            "description_width": ""
          }
        },
        "401e0dad66804f3ca3f0b1bc068e5df2": {
          "model_module": "@jupyter-widgets/output",
          "model_name": "OutputModel",
          "model_module_version": "1.0.0",
          "state": {
            "_dom_classes": [],
            "_model_module": "@jupyter-widgets/output",
            "_model_module_version": "1.0.0",
            "_model_name": "OutputModel",
            "_view_count": null,
            "_view_module": "@jupyter-widgets/output",
            "_view_module_version": "1.0.0",
            "_view_name": "OutputView",
            "layout": "IPY_MODEL_dce06c7462a34af7b5d5389fafe117e4",
            "msg_id": "",
            "outputs": [
              {
                "output_type": "display_data",
                "data": {
                  "text/plain": "   PassengerId  Survived  Pclass  \\\n0            1         0       3   \n1            2         1       1   \n2            3         1       3   \n3            4         1       1   \n4            5         0       3   \n\n                                                Name     Sex   Age  SibSp  \\\n0                            Braund, Mr. Owen Harris    male  22.0      1   \n1  Cumings, Mrs. John Bradley (Florence Briggs Th...  female  38.0      1   \n2                             Heikkinen, Miss. Laina  female  26.0      0   \n3       Futrelle, Mrs. Jacques Heath (Lily May Peel)  female  35.0      1   \n4                           Allen, Mr. William Henry    male  35.0      0   \n\n   Parch            Ticket     Fare Cabin Embarked  \n0      0         A/5 21171   7.2500   NaN        S  \n1      0          PC 17599  71.2833   C85        C  \n2      0  STON/O2. 3101282   7.9250   NaN        S  \n3      0            113803  53.1000  C123        S  \n4      0            373450   8.0500   NaN        S  ",
                  "text/html": "\n  <div id=\"df-9ce7a634-703a-4c93-9e28-4a5f23d2649e\">\n    <div class=\"colab-df-container\">\n      <div>\n<style scoped>\n    .dataframe tbody tr th:only-of-type {\n        vertical-align: middle;\n    }\n\n    .dataframe tbody tr th {\n        vertical-align: top;\n    }\n\n    .dataframe thead th {\n        text-align: right;\n    }\n</style>\n<table border=\"1\" class=\"dataframe\">\n  <thead>\n    <tr style=\"text-align: right;\">\n      <th></th>\n      <th>PassengerId</th>\n      <th>Survived</th>\n      <th>Pclass</th>\n      <th>Name</th>\n      <th>Sex</th>\n      <th>Age</th>\n      <th>SibSp</th>\n      <th>Parch</th>\n      <th>Ticket</th>\n      <th>Fare</th>\n      <th>Cabin</th>\n      <th>Embarked</th>\n    </tr>\n  </thead>\n  <tbody>\n    <tr>\n      <th>0</th>\n      <td>1</td>\n      <td>0</td>\n      <td>3</td>\n      <td>Braund, Mr. Owen Harris</td>\n      <td>male</td>\n      <td>22.0</td>\n      <td>1</td>\n      <td>0</td>\n      <td>A/5 21171</td>\n      <td>7.2500</td>\n      <td>NaN</td>\n      <td>S</td>\n    </tr>\n    <tr>\n      <th>1</th>\n      <td>2</td>\n      <td>1</td>\n      <td>1</td>\n      <td>Cumings, Mrs. John Bradley (Florence Briggs Th...</td>\n      <td>female</td>\n      <td>38.0</td>\n      <td>1</td>\n      <td>0</td>\n      <td>PC 17599</td>\n      <td>71.2833</td>\n      <td>C85</td>\n      <td>C</td>\n    </tr>\n    <tr>\n      <th>2</th>\n      <td>3</td>\n      <td>1</td>\n      <td>3</td>\n      <td>Heikkinen, Miss. Laina</td>\n      <td>female</td>\n      <td>26.0</td>\n      <td>0</td>\n      <td>0</td>\n      <td>STON/O2. 3101282</td>\n      <td>7.9250</td>\n      <td>NaN</td>\n      <td>S</td>\n    </tr>\n    <tr>\n      <th>3</th>\n      <td>4</td>\n      <td>1</td>\n      <td>1</td>\n      <td>Futrelle, Mrs. Jacques Heath (Lily May Peel)</td>\n      <td>female</td>\n      <td>35.0</td>\n      <td>1</td>\n      <td>0</td>\n      <td>113803</td>\n      <td>53.1000</td>\n      <td>C123</td>\n      <td>S</td>\n    </tr>\n    <tr>\n      <th>4</th>\n      <td>5</td>\n      <td>0</td>\n      <td>3</td>\n      <td>Allen, Mr. William Henry</td>\n      <td>male</td>\n      <td>35.0</td>\n      <td>0</td>\n      <td>0</td>\n      <td>373450</td>\n      <td>8.0500</td>\n      <td>NaN</td>\n      <td>S</td>\n    </tr>\n  </tbody>\n</table>\n</div>\n      <button class=\"colab-df-convert\" onclick=\"convertToInteractive('df-9ce7a634-703a-4c93-9e28-4a5f23d2649e')\"\n              title=\"Convert this dataframe to an interactive table.\"\n              style=\"display:none;\">\n        \n  <svg xmlns=\"http://www.w3.org/2000/svg\" height=\"24px\"viewBox=\"0 0 24 24\"\n       width=\"24px\">\n    <path d=\"M0 0h24v24H0V0z\" fill=\"none\"/>\n    <path d=\"M18.56 5.44l.94 2.06.94-2.06 2.06-.94-2.06-.94-.94-2.06-.94 2.06-2.06.94zm-11 1L8.5 8.5l.94-2.06 2.06-.94-2.06-.94L8.5 2.5l-.94 2.06-2.06.94zm10 10l.94 2.06.94-2.06 2.06-.94-2.06-.94-.94-2.06-.94 2.06-2.06.94z\"/><path d=\"M17.41 7.96l-1.37-1.37c-.4-.4-.92-.59-1.43-.59-.52 0-1.04.2-1.43.59L10.3 9.45l-7.72 7.72c-.78.78-.78 2.05 0 2.83L4 21.41c.39.39.9.59 1.41.59.51 0 1.02-.2 1.41-.59l7.78-7.78 2.81-2.81c.8-.78.8-2.07 0-2.86zM5.41 20L4 18.59l7.72-7.72 1.47 1.35L5.41 20z\"/>\n  </svg>\n      </button>\n      \n  <style>\n    .colab-df-container {\n      display:flex;\n      flex-wrap:wrap;\n      gap: 12px;\n    }\n\n    .colab-df-convert {\n      background-color: #E8F0FE;\n      border: none;\n      border-radius: 50%;\n      cursor: pointer;\n      display: none;\n      fill: #1967D2;\n      height: 32px;\n      padding: 0 0 0 0;\n      width: 32px;\n    }\n\n    .colab-df-convert:hover {\n      background-color: #E2EBFA;\n      box-shadow: 0px 1px 2px rgba(60, 64, 67, 0.3), 0px 1px 3px 1px rgba(60, 64, 67, 0.15);\n      fill: #174EA6;\n    }\n\n    [theme=dark] .colab-df-convert {\n      background-color: #3B4455;\n      fill: #D2E3FC;\n    }\n\n    [theme=dark] .colab-df-convert:hover {\n      background-color: #434B5C;\n      box-shadow: 0px 1px 3px 1px rgba(0, 0, 0, 0.15);\n      filter: drop-shadow(0px 1px 2px rgba(0, 0, 0, 0.3));\n      fill: #FFFFFF;\n    }\n  </style>\n\n      <script>\n        const buttonEl =\n          document.querySelector('#df-9ce7a634-703a-4c93-9e28-4a5f23d2649e button.colab-df-convert');\n        buttonEl.style.display =\n          google.colab.kernel.accessAllowed ? 'block' : 'none';\n\n        async function convertToInteractive(key) {\n          const element = document.querySelector('#df-9ce7a634-703a-4c93-9e28-4a5f23d2649e');\n          const dataTable =\n            await google.colab.kernel.invokeFunction('convertToInteractive',\n                                                     [key], {});\n          if (!dataTable) return;\n\n          const docLinkHtml = 'Like what you see? Visit the ' +\n            '<a target=\"_blank\" href=https://colab.research.google.com/notebooks/data_table.ipynb>data table notebook</a>'\n            + ' to learn more about interactive tables.';\n          element.innerHTML = '';\n          dataTable['output_type'] = 'display_data';\n          await google.colab.output.renderOutput(dataTable, element);\n          const docLink = document.createElement('div');\n          docLink.innerHTML = docLinkHtml;\n          element.appendChild(docLink);\n        }\n      </script>\n    </div>\n  </div>\n  "
                },
                "metadata": {}
              }
            ]
          }
        },
        "dce06c7462a34af7b5d5389fafe117e4": {
          "model_module": "@jupyter-widgets/base",
          "model_name": "LayoutModel",
          "model_module_version": "1.2.0",
          "state": {
            "_model_module": "@jupyter-widgets/base",
            "_model_module_version": "1.2.0",
            "_model_name": "LayoutModel",
            "_view_count": null,
            "_view_module": "@jupyter-widgets/base",
            "_view_module_version": "1.2.0",
            "_view_name": "LayoutView",
            "align_content": null,
            "align_items": null,
            "align_self": null,
            "border": null,
            "bottom": null,
            "display": null,
            "flex": null,
            "flex_flow": null,
            "grid_area": null,
            "grid_auto_columns": null,
            "grid_auto_flow": null,
            "grid_auto_rows": null,
            "grid_column": null,
            "grid_gap": null,
            "grid_row": null,
            "grid_template_areas": null,
            "grid_template_columns": null,
            "grid_template_rows": null,
            "height": null,
            "justify_content": null,
            "justify_items": null,
            "left": null,
            "margin": null,
            "max_height": null,
            "max_width": null,
            "min_height": null,
            "min_width": null,
            "object_fit": null,
            "object_position": null,
            "order": null,
            "overflow": null,
            "overflow_x": null,
            "overflow_y": null,
            "padding": null,
            "right": null,
            "top": null,
            "visibility": null,
            "width": null
          }
        },
        "9e9f0bc7f8d249a5ab68e7856f9901be": {
          "model_module": "@jupyter-widgets/controls",
          "model_name": "TextModel",
          "model_module_version": "1.5.0",
          "state": {
            "_dom_classes": [],
            "_model_module": "@jupyter-widgets/controls",
            "_model_module_version": "1.5.0",
            "_model_name": "TextModel",
            "_view_count": null,
            "_view_module": "@jupyter-widgets/controls",
            "_view_module_version": "1.5.0",
            "_view_name": "TextView",
            "continuous_update": true,
            "description": "Text - ",
            "description_tooltip": null,
            "disabled": false,
            "layout": "IPY_MODEL_9484d48c85e9456aae226345d205bb00",
            "placeholder": "​",
            "style": "IPY_MODEL_8843a9d3e75346d5b2856189159b8b16",
            "value": "sdfas"
          }
        },
        "9484d48c85e9456aae226345d205bb00": {
          "model_module": "@jupyter-widgets/base",
          "model_name": "LayoutModel",
          "model_module_version": "1.2.0",
          "state": {
            "_model_module": "@jupyter-widgets/base",
            "_model_module_version": "1.2.0",
            "_model_name": "LayoutModel",
            "_view_count": null,
            "_view_module": "@jupyter-widgets/base",
            "_view_module_version": "1.2.0",
            "_view_name": "LayoutView",
            "align_content": null,
            "align_items": null,
            "align_self": null,
            "border": null,
            "bottom": null,
            "display": null,
            "flex": null,
            "flex_flow": null,
            "grid_area": null,
            "grid_auto_columns": null,
            "grid_auto_flow": null,
            "grid_auto_rows": null,
            "grid_column": null,
            "grid_gap": null,
            "grid_row": null,
            "grid_template_areas": null,
            "grid_template_columns": null,
            "grid_template_rows": null,
            "height": null,
            "justify_content": null,
            "justify_items": null,
            "left": null,
            "margin": null,
            "max_height": null,
            "max_width": null,
            "min_height": null,
            "min_width": null,
            "object_fit": null,
            "object_position": null,
            "order": null,
            "overflow": null,
            "overflow_x": null,
            "overflow_y": null,
            "padding": null,
            "right": null,
            "top": null,
            "visibility": null,
            "width": null
          }
        },
        "8843a9d3e75346d5b2856189159b8b16": {
          "model_module": "@jupyter-widgets/controls",
          "model_name": "DescriptionStyleModel",
          "model_module_version": "1.5.0",
          "state": {
            "_model_module": "@jupyter-widgets/controls",
            "_model_module_version": "1.5.0",
            "_model_name": "DescriptionStyleModel",
            "_view_count": null,
            "_view_module": "@jupyter-widgets/base",
            "_view_module_version": "1.2.0",
            "_view_name": "StyleView",
            "description_width": ""
          }
        },
        "6fad4ec94137406ba2ac0ef230eb3cf7": {
          "model_module": "@jupyter-widgets/output",
          "model_name": "OutputModel",
          "model_module_version": "1.0.0",
          "state": {
            "_dom_classes": [],
            "_model_module": "@jupyter-widgets/output",
            "_model_module_version": "1.0.0",
            "_model_name": "OutputModel",
            "_view_count": null,
            "_view_module": "@jupyter-widgets/output",
            "_view_module_version": "1.0.0",
            "_view_name": "OutputView",
            "layout": "IPY_MODEL_f2b88e3f2fa04b0fbf994ea8f2561f73",
            "msg_id": "",
            "outputs": [
              {
                "output_type": "display_data",
                "data": {
                  "text/plain": "'Entered value - sdfas'",
                  "application/vnd.google.colaboratory.intrinsic+json": {
                    "type": "string"
                  }
                },
                "metadata": {}
              }
            ]
          }
        },
        "f2b88e3f2fa04b0fbf994ea8f2561f73": {
          "model_module": "@jupyter-widgets/base",
          "model_name": "LayoutModel",
          "model_module_version": "1.2.0",
          "state": {
            "_model_module": "@jupyter-widgets/base",
            "_model_module_version": "1.2.0",
            "_model_name": "LayoutModel",
            "_view_count": null,
            "_view_module": "@jupyter-widgets/base",
            "_view_module_version": "1.2.0",
            "_view_name": "LayoutView",
            "align_content": null,
            "align_items": null,
            "align_self": null,
            "border": null,
            "bottom": null,
            "display": null,
            "flex": null,
            "flex_flow": null,
            "grid_area": null,
            "grid_auto_columns": null,
            "grid_auto_flow": null,
            "grid_auto_rows": null,
            "grid_column": null,
            "grid_gap": null,
            "grid_row": null,
            "grid_template_areas": null,
            "grid_template_columns": null,
            "grid_template_rows": null,
            "height": null,
            "justify_content": null,
            "justify_items": null,
            "left": null,
            "margin": null,
            "max_height": null,
            "max_width": null,
            "min_height": null,
            "min_width": null,
            "object_fit": null,
            "object_position": null,
            "order": null,
            "overflow": null,
            "overflow_x": null,
            "overflow_y": null,
            "padding": null,
            "right": null,
            "top": null,
            "visibility": null,
            "width": null
          }
        },
        "4885f90589fc466c9b43b1f8d6f02b08": {
          "model_module": "@jupyter-widgets/controls",
          "model_name": "HBoxModel",
          "model_module_version": "1.5.0",
          "state": {
            "_dom_classes": [],
            "_model_module": "@jupyter-widgets/controls",
            "_model_module_version": "1.5.0",
            "_model_name": "HBoxModel",
            "_view_count": null,
            "_view_module": "@jupyter-widgets/controls",
            "_view_module_version": "1.5.0",
            "_view_name": "HBoxView",
            "box_style": "",
            "children": [
              "IPY_MODEL_e6df1d0301554045bbfb37f0ed83a706",
              "IPY_MODEL_5696831ecf874f63bda508272636f12f"
            ],
            "layout": "IPY_MODEL_e2be936209044fa48088d3273ac57357"
          }
        },
        "e6df1d0301554045bbfb37f0ed83a706": {
          "model_module": "@jupyter-widgets/controls",
          "model_name": "TextModel",
          "model_module_version": "1.5.0",
          "state": {
            "_dom_classes": [],
            "_model_module": "@jupyter-widgets/controls",
            "_model_module_version": "1.5.0",
            "_model_name": "TextModel",
            "_view_count": null,
            "_view_module": "@jupyter-widgets/controls",
            "_view_module_version": "1.5.0",
            "_view_name": "TextView",
            "continuous_update": true,
            "description": "Text - ",
            "description_tooltip": null,
            "disabled": false,
            "layout": "IPY_MODEL_1016d3a2828e402592ebf8b2f115c8b2",
            "placeholder": "​",
            "style": "IPY_MODEL_077d770d7a5f455f86a8bcda8028ab02",
            "value": "sdfa"
          }
        },
        "5696831ecf874f63bda508272636f12f": {
          "model_module": "@jupyter-widgets/output",
          "model_name": "OutputModel",
          "model_module_version": "1.0.0",
          "state": {
            "_dom_classes": [],
            "_model_module": "@jupyter-widgets/output",
            "_model_module_version": "1.0.0",
            "_model_name": "OutputModel",
            "_view_count": null,
            "_view_module": "@jupyter-widgets/output",
            "_view_module_version": "1.0.0",
            "_view_name": "OutputView",
            "layout": "IPY_MODEL_51d7417ea3314a7499cdc5da7758e02d",
            "msg_id": "",
            "outputs": [
              {
                "output_type": "display_data",
                "data": {
                  "text/plain": "'Entered value - sdfa'",
                  "application/vnd.google.colaboratory.intrinsic+json": {
                    "type": "string"
                  }
                },
                "metadata": {}
              }
            ]
          }
        },
        "e2be936209044fa48088d3273ac57357": {
          "model_module": "@jupyter-widgets/base",
          "model_name": "LayoutModel",
          "model_module_version": "1.2.0",
          "state": {
            "_model_module": "@jupyter-widgets/base",
            "_model_module_version": "1.2.0",
            "_model_name": "LayoutModel",
            "_view_count": null,
            "_view_module": "@jupyter-widgets/base",
            "_view_module_version": "1.2.0",
            "_view_name": "LayoutView",
            "align_content": null,
            "align_items": null,
            "align_self": null,
            "border": null,
            "bottom": null,
            "display": null,
            "flex": null,
            "flex_flow": null,
            "grid_area": null,
            "grid_auto_columns": null,
            "grid_auto_flow": null,
            "grid_auto_rows": null,
            "grid_column": null,
            "grid_gap": null,
            "grid_row": null,
            "grid_template_areas": null,
            "grid_template_columns": null,
            "grid_template_rows": null,
            "height": null,
            "justify_content": null,
            "justify_items": null,
            "left": null,
            "margin": null,
            "max_height": null,
            "max_width": null,
            "min_height": null,
            "min_width": null,
            "object_fit": null,
            "object_position": null,
            "order": null,
            "overflow": null,
            "overflow_x": null,
            "overflow_y": null,
            "padding": null,
            "right": null,
            "top": null,
            "visibility": null,
            "width": null
          }
        },
        "1016d3a2828e402592ebf8b2f115c8b2": {
          "model_module": "@jupyter-widgets/base",
          "model_name": "LayoutModel",
          "model_module_version": "1.2.0",
          "state": {
            "_model_module": "@jupyter-widgets/base",
            "_model_module_version": "1.2.0",
            "_model_name": "LayoutModel",
            "_view_count": null,
            "_view_module": "@jupyter-widgets/base",
            "_view_module_version": "1.2.0",
            "_view_name": "LayoutView",
            "align_content": null,
            "align_items": null,
            "align_self": null,
            "border": null,
            "bottom": null,
            "display": null,
            "flex": null,
            "flex_flow": null,
            "grid_area": null,
            "grid_auto_columns": null,
            "grid_auto_flow": null,
            "grid_auto_rows": null,
            "grid_column": null,
            "grid_gap": null,
            "grid_row": null,
            "grid_template_areas": null,
            "grid_template_columns": null,
            "grid_template_rows": null,
            "height": null,
            "justify_content": null,
            "justify_items": null,
            "left": null,
            "margin": null,
            "max_height": null,
            "max_width": null,
            "min_height": null,
            "min_width": null,
            "object_fit": null,
            "object_position": null,
            "order": null,
            "overflow": null,
            "overflow_x": null,
            "overflow_y": null,
            "padding": null,
            "right": null,
            "top": null,
            "visibility": null,
            "width": null
          }
        },
        "077d770d7a5f455f86a8bcda8028ab02": {
          "model_module": "@jupyter-widgets/controls",
          "model_name": "DescriptionStyleModel",
          "model_module_version": "1.5.0",
          "state": {
            "_model_module": "@jupyter-widgets/controls",
            "_model_module_version": "1.5.0",
            "_model_name": "DescriptionStyleModel",
            "_view_count": null,
            "_view_module": "@jupyter-widgets/base",
            "_view_module_version": "1.2.0",
            "_view_name": "StyleView",
            "description_width": ""
          }
        },
        "51d7417ea3314a7499cdc5da7758e02d": {
          "model_module": "@jupyter-widgets/base",
          "model_name": "LayoutModel",
          "model_module_version": "1.2.0",
          "state": {
            "_model_module": "@jupyter-widgets/base",
            "_model_module_version": "1.2.0",
            "_model_name": "LayoutModel",
            "_view_count": null,
            "_view_module": "@jupyter-widgets/base",
            "_view_module_version": "1.2.0",
            "_view_name": "LayoutView",
            "align_content": null,
            "align_items": null,
            "align_self": null,
            "border": null,
            "bottom": null,
            "display": null,
            "flex": null,
            "flex_flow": null,
            "grid_area": null,
            "grid_auto_columns": null,
            "grid_auto_flow": null,
            "grid_auto_rows": null,
            "grid_column": null,
            "grid_gap": null,
            "grid_row": null,
            "grid_template_areas": null,
            "grid_template_columns": null,
            "grid_template_rows": null,
            "height": null,
            "justify_content": null,
            "justify_items": null,
            "left": null,
            "margin": null,
            "max_height": null,
            "max_width": null,
            "min_height": null,
            "min_width": null,
            "object_fit": null,
            "object_position": null,
            "order": null,
            "overflow": null,
            "overflow_x": null,
            "overflow_y": null,
            "padding": null,
            "right": null,
            "top": null,
            "visibility": null,
            "width": null
          }
        },
        "06fd3637045840e087a5674d540614a8": {
          "model_module": "@jupyter-widgets/controls",
          "model_name": "TabModel",
          "model_module_version": "1.5.0",
          "state": {
            "_dom_classes": [],
            "_model_module": "@jupyter-widgets/controls",
            "_model_module_version": "1.5.0",
            "_model_name": "TabModel",
            "_titles": {
              "0": "DataFram Head",
              "1": "DataFram Info",
              "2": "Unique values in column",
              "3": "Graph: Column vs column"
            },
            "_view_count": null,
            "_view_module": "@jupyter-widgets/controls",
            "_view_module_version": "1.5.0",
            "_view_name": "TabView",
            "box_style": "",
            "children": [
              "IPY_MODEL_8c6bc8637dcb4b3cb91262dae026cd5b",
              "IPY_MODEL_3e37998d8301479b9bad3fec041b0b0c",
              "IPY_MODEL_fea636f192254c73b0c29969f5d8ef40",
              "IPY_MODEL_b6ae71c20b324675b5e65e6ff71e688e"
            ],
            "layout": "IPY_MODEL_ef875bc309ca4b4bbdb8040b75350132",
            "selected_index": 3
          }
        },
        "8c6bc8637dcb4b3cb91262dae026cd5b": {
          "model_module": "@jupyter-widgets/output",
          "model_name": "OutputModel",
          "model_module_version": "1.0.0",
          "state": {
            "_dom_classes": [],
            "_model_module": "@jupyter-widgets/output",
            "_model_module_version": "1.0.0",
            "_model_name": "OutputModel",
            "_view_count": null,
            "_view_module": "@jupyter-widgets/output",
            "_view_module_version": "1.0.0",
            "_view_name": "OutputView",
            "layout": "IPY_MODEL_72be2325f9604ff181f40ea0d16557d4",
            "msg_id": "",
            "outputs": [
              {
                "output_type": "stream",
                "name": "stdout",
                "text": [
                  "   PassengerId  Survived  Pclass  \\\n",
                  "0            1         0       3   \n",
                  "1            2         1       1   \n",
                  "2            3         1       3   \n",
                  "3            4         1       1   \n",
                  "4            5         0       3   \n",
                  "\n",
                  "                                                Name     Sex   Age  SibSp  \\\n",
                  "0                            Braund, Mr. Owen Harris    male  22.0      1   \n",
                  "1  Cumings, Mrs. John Bradley (Florence Briggs Th...  female  38.0      1   \n",
                  "2                             Heikkinen, Miss. Laina  female  26.0      0   \n",
                  "3       Futrelle, Mrs. Jacques Heath (Lily May Peel)  female  35.0      1   \n",
                  "4                           Allen, Mr. William Henry    male  35.0      0   \n",
                  "\n",
                  "   Parch            Ticket     Fare Cabin Embarked  \n",
                  "0      0         A/5 21171   7.2500   NaN        S  \n",
                  "1      0          PC 17599  71.2833   C85        C  \n",
                  "2      0  STON/O2. 3101282   7.9250   NaN        S  \n",
                  "3      0            113803  53.1000  C123        S  \n",
                  "4      0            373450   8.0500   NaN        S  \n"
                ]
              }
            ]
          }
        },
        "3e37998d8301479b9bad3fec041b0b0c": {
          "model_module": "@jupyter-widgets/output",
          "model_name": "OutputModel",
          "model_module_version": "1.0.0",
          "state": {
            "_dom_classes": [],
            "_model_module": "@jupyter-widgets/output",
            "_model_module_version": "1.0.0",
            "_model_name": "OutputModel",
            "_view_count": null,
            "_view_module": "@jupyter-widgets/output",
            "_view_module_version": "1.0.0",
            "_view_name": "OutputView",
            "layout": "IPY_MODEL_b37aa80d40194c318d8e9a1810520bd8",
            "msg_id": "",
            "outputs": [
              {
                "output_type": "stream",
                "name": "stdout",
                "text": [
                  "<class 'pandas.core.frame.DataFrame'>\n",
                  "RangeIndex: 891 entries, 0 to 890\n",
                  "Data columns (total 12 columns):\n",
                  " #   Column       Non-Null Count  Dtype  \n",
                  "---  ------       --------------  -----  \n",
                  " 0   PassengerId  891 non-null    int64  \n",
                  " 1   Survived     891 non-null    int64  \n",
                  " 2   Pclass       891 non-null    int64  \n",
                  " 3   Name         891 non-null    object \n",
                  " 4   Sex          891 non-null    object \n",
                  " 5   Age          714 non-null    float64\n",
                  " 6   SibSp        891 non-null    int64  \n",
                  " 7   Parch        891 non-null    int64  \n",
                  " 8   Ticket       891 non-null    object \n",
                  " 9   Fare         891 non-null    float64\n",
                  " 10  Cabin        204 non-null    object \n",
                  " 11  Embarked     889 non-null    object \n",
                  "dtypes: float64(2), int64(5), object(5)\n",
                  "memory usage: 83.7+ KB\n",
                  "None\n"
                ]
              }
            ]
          }
        },
        "fea636f192254c73b0c29969f5d8ef40": {
          "model_module": "@jupyter-widgets/controls",
          "model_name": "VBoxModel",
          "model_module_version": "1.5.0",
          "state": {
            "_dom_classes": [],
            "_model_module": "@jupyter-widgets/controls",
            "_model_module_version": "1.5.0",
            "_model_name": "VBoxModel",
            "_view_count": null,
            "_view_module": "@jupyter-widgets/controls",
            "_view_module_version": "1.5.0",
            "_view_name": "VBoxView",
            "box_style": "",
            "children": [
              "IPY_MODEL_1b766097e81a431fbb2c2ab41dbfaa8f",
              "IPY_MODEL_f978f38d43d74c73a82201256f795949"
            ],
            "layout": "IPY_MODEL_11845c82079e4e7094d497e31580b2f6"
          }
        },
        "b6ae71c20b324675b5e65e6ff71e688e": {
          "model_module": "@jupyter-widgets/controls",
          "model_name": "VBoxModel",
          "model_module_version": "1.5.0",
          "state": {
            "_dom_classes": [],
            "_model_module": "@jupyter-widgets/controls",
            "_model_module_version": "1.5.0",
            "_model_name": "VBoxModel",
            "_view_count": null,
            "_view_module": "@jupyter-widgets/controls",
            "_view_module_version": "1.5.0",
            "_view_name": "VBoxView",
            "box_style": "",
            "children": [
              "IPY_MODEL_72c995f4701a40f5bcdf0a68974423ef",
              "IPY_MODEL_6e97b2410621454ca392f2755318ea24"
            ],
            "layout": "IPY_MODEL_480b8809197c4bec995581d73a91acf7"
          }
        },
        "ef875bc309ca4b4bbdb8040b75350132": {
          "model_module": "@jupyter-widgets/base",
          "model_name": "LayoutModel",
          "model_module_version": "1.2.0",
          "state": {
            "_model_module": "@jupyter-widgets/base",
            "_model_module_version": "1.2.0",
            "_model_name": "LayoutModel",
            "_view_count": null,
            "_view_module": "@jupyter-widgets/base",
            "_view_module_version": "1.2.0",
            "_view_name": "LayoutView",
            "align_content": null,
            "align_items": null,
            "align_self": null,
            "border": null,
            "bottom": null,
            "display": null,
            "flex": null,
            "flex_flow": null,
            "grid_area": null,
            "grid_auto_columns": null,
            "grid_auto_flow": null,
            "grid_auto_rows": null,
            "grid_column": null,
            "grid_gap": null,
            "grid_row": null,
            "grid_template_areas": null,
            "grid_template_columns": null,
            "grid_template_rows": null,
            "height": null,
            "justify_content": null,
            "justify_items": null,
            "left": null,
            "margin": null,
            "max_height": null,
            "max_width": null,
            "min_height": null,
            "min_width": null,
            "object_fit": null,
            "object_position": null,
            "order": null,
            "overflow": null,
            "overflow_x": null,
            "overflow_y": null,
            "padding": null,
            "right": null,
            "top": null,
            "visibility": null,
            "width": null
          }
        },
        "1b766097e81a431fbb2c2ab41dbfaa8f": {
          "model_module": "@jupyter-widgets/controls",
          "model_name": "DropdownModel",
          "model_module_version": "1.5.0",
          "state": {
            "_dom_classes": [],
            "_model_module": "@jupyter-widgets/controls",
            "_model_module_version": "1.5.0",
            "_model_name": "DropdownModel",
            "_options_labels": [
              "PassengerId",
              "Survived",
              "Pclass",
              "Name",
              "Sex",
              "Age",
              "SibSp",
              "Parch",
              "Ticket",
              "Fare",
              "Cabin",
              "Embarked"
            ],
            "_view_count": null,
            "_view_module": "@jupyter-widgets/controls",
            "_view_module_version": "1.5.0",
            "_view_name": "DropdownView",
            "description": "Column - ",
            "description_tooltip": null,
            "disabled": false,
            "index": 3,
            "layout": "IPY_MODEL_d8a3ae2012af4f05b1f6f683ecf3de80",
            "style": "IPY_MODEL_fee48197d828401bb193fe5e4a55fc79"
          }
        },
        "f978f38d43d74c73a82201256f795949": {
          "model_module": "@jupyter-widgets/output",
          "model_name": "OutputModel",
          "model_module_version": "1.0.0",
          "state": {
            "_dom_classes": [],
            "_model_module": "@jupyter-widgets/output",
            "_model_module_version": "1.0.0",
            "_model_name": "OutputModel",
            "_view_count": null,
            "_view_module": "@jupyter-widgets/output",
            "_view_module_version": "1.0.0",
            "_view_name": "OutputView",
            "layout": "IPY_MODEL_4f62a6ad81694db085ba596b72d5481b",
            "msg_id": "",
            "outputs": [
              {
                "output_type": "display_data",
                "data": {
                  "text/plain": "array(['Braund, Mr. Owen Harris',\n       'Cumings, Mrs. John Bradley (Florence Briggs Thayer)',\n       'Heikkinen, Miss. Laina',\n       'Futrelle, Mrs. Jacques Heath (Lily May Peel)',\n       'Allen, Mr. William Henry', 'Moran, Mr. James',\n       'McCarthy, Mr. Timothy J', 'Palsson, Master. Gosta Leonard',\n       'Johnson, Mrs. Oscar W (Elisabeth Vilhelmina Berg)',\n       'Nasser, Mrs. Nicholas (Adele Achem)',\n       'Sandstrom, Miss. Marguerite Rut', 'Bonnell, Miss. Elizabeth',\n       'Saundercock, Mr. William Henry', 'Andersson, Mr. Anders Johan',\n       'Vestrom, Miss. Hulda Amanda Adolfina',\n       'Hewlett, Mrs. (Mary D Kingcome) ', 'Rice, Master. Eugene',\n       'Williams, Mr. Charles Eugene',\n       'Vander Planke, Mrs. Julius (Emelia Maria Vandemoortele)',\n       'Masselmani, Mrs. Fatima', 'Fynney, Mr. Joseph J',\n       'Beesley, Mr. Lawrence', 'McGowan, Miss. Anna \"Annie\"',\n       'Sloper, Mr. William Thompson', 'Palsson, Miss. Torborg Danira',\n       'Asplund, Mrs. Carl Oscar (Selma Augusta Emilia Johansson)',\n       'Emir, Mr. Farred Chehab', 'Fortune, Mr. Charles Alexander',\n       'O\\'Dwyer, Miss. Ellen \"Nellie\"', 'Todoroff, Mr. Lalio',\n       'Uruchurtu, Don. Manuel E',\n       'Spencer, Mrs. William Augustus (Marie Eugenie)',\n       'Glynn, Miss. Mary Agatha', 'Wheadon, Mr. Edward H',\n       'Meyer, Mr. Edgar Joseph', 'Holverson, Mr. Alexander Oskar',\n       'Mamee, Mr. Hanna', 'Cann, Mr. Ernest Charles',\n       'Vander Planke, Miss. Augusta Maria',\n       'Nicola-Yarred, Miss. Jamila',\n       'Ahlin, Mrs. Johan (Johanna Persdotter Larsson)',\n       'Turpin, Mrs. William John Robert (Dorothy Ann Wonnacott)',\n       'Kraeff, Mr. Theodor', 'Laroche, Miss. Simonne Marie Anne Andree',\n       'Devaney, Miss. Margaret Delia', 'Rogers, Mr. William John',\n       'Lennon, Mr. Denis', \"O'Driscoll, Miss. Bridget\",\n       'Samaan, Mr. Youssef',\n       'Arnold-Franchi, Mrs. Josef (Josefine Franchi)',\n       'Panula, Master. Juha Niilo', 'Nosworthy, Mr. Richard Cater',\n       'Harper, Mrs. Henry Sleeper (Myna Haxtun)',\n       'Faunthorpe, Mrs. Lizzie (Elizabeth Anne Wilkinson)',\n       'Ostby, Mr. Engelhart Cornelius', 'Woolner, Mr. Hugh',\n       'Rugg, Miss. Emily', 'Novel, Mr. Mansouer',\n       'West, Miss. Constance Mirium',\n       'Goodwin, Master. William Frederick', 'Sirayanian, Mr. Orsen',\n       'Icard, Miss. Amelie', 'Harris, Mr. Henry Birkhardt',\n       'Skoog, Master. Harald', 'Stewart, Mr. Albert A',\n       'Moubarek, Master. Gerios', 'Nye, Mrs. (Elizabeth Ramell)',\n       'Crease, Mr. Ernest James', 'Andersson, Miss. Erna Alexandra',\n       'Kink, Mr. Vincenz', 'Jenkin, Mr. Stephen Curnow',\n       'Goodwin, Miss. Lillian Amy', 'Hood, Mr. Ambrose Jr',\n       'Chronopoulos, Mr. Apostolos', 'Bing, Mr. Lee',\n       'Moen, Mr. Sigurd Hansen', 'Staneff, Mr. Ivan',\n       'Moutal, Mr. Rahamin Haim', 'Caldwell, Master. Alden Gates',\n       'Dowdell, Miss. Elizabeth', 'Waelens, Mr. Achille',\n       'Sheerlinck, Mr. Jan Baptist', 'McDermott, Miss. Brigdet Delia',\n       'Carrau, Mr. Francisco M', 'Ilett, Miss. Bertha',\n       'Backstrom, Mrs. Karl Alfred (Maria Mathilda Gustafsson)',\n       'Ford, Mr. William Neal', 'Slocovski, Mr. Selman Francis',\n       'Fortune, Miss. Mabel Helen', 'Celotti, Mr. Francesco',\n       'Christmann, Mr. Emil', 'Andreasson, Mr. Paul Edvin',\n       'Chaffee, Mr. Herbert Fuller', 'Dean, Mr. Bertram Frank',\n       'Coxon, Mr. Daniel', 'Shorney, Mr. Charles Joseph',\n       'Goldschmidt, Mr. George B', 'Greenfield, Mr. William Bertram',\n       'Doling, Mrs. John T (Ada Julia Bone)', 'Kantor, Mr. Sinai',\n       'Petranec, Miss. Matilda', 'Petroff, Mr. Pastcho (\"Pentcho\")',\n       'White, Mr. Richard Frasar', 'Johansson, Mr. Gustaf Joel',\n       'Gustafsson, Mr. Anders Vilhelm', 'Mionoff, Mr. Stoytcho',\n       'Salkjelsvik, Miss. Anna Kristine', 'Moss, Mr. Albert Johan',\n       'Rekic, Mr. Tido', 'Moran, Miss. Bertha',\n       'Porter, Mr. Walter Chamberlain', 'Zabour, Miss. Hileni',\n       'Barton, Mr. David John', 'Jussila, Miss. Katriina',\n       'Attalah, Miss. Malake', 'Pekoniemi, Mr. Edvard',\n       'Connors, Mr. Patrick', 'Turpin, Mr. William John Robert',\n       'Baxter, Mr. Quigg Edmond', 'Andersson, Miss. Ellis Anna Maria',\n       'Hickman, Mr. Stanley George', 'Moore, Mr. Leonard Charles',\n       'Nasser, Mr. Nicholas', 'Webber, Miss. Susan',\n       'White, Mr. Percival Wayland', 'Nicola-Yarred, Master. Elias',\n       'McMahon, Mr. Martin', 'Madsen, Mr. Fridtjof Arne',\n       'Peter, Miss. Anna', 'Ekstrom, Mr. Johan', 'Drazenoic, Mr. Jozef',\n       'Coelho, Mr. Domingos Fernandeo',\n       'Robins, Mrs. Alexander A (Grace Charity Laury)',\n       'Weisz, Mrs. Leopold (Mathilde Francoise Pede)',\n       'Sobey, Mr. Samuel James Hayden', 'Richard, Mr. Emile',\n       'Newsom, Miss. Helen Monypeny', 'Futrelle, Mr. Jacques Heath',\n       'Osen, Mr. Olaf Elon', 'Giglio, Mr. Victor',\n       'Boulos, Mrs. Joseph (Sultana)', 'Nysten, Miss. Anna Sofia',\n       'Hakkarainen, Mrs. Pekka Pietari (Elin Matilda Dolck)',\n       'Burke, Mr. Jeremiah', 'Andrew, Mr. Edgardo Samuel',\n       'Nicholls, Mr. Joseph Charles',\n       'Andersson, Mr. August Edvard (\"Wennerstrom\")',\n       'Ford, Miss. Robina Maggie \"Ruby\"',\n       'Navratil, Mr. Michel (\"Louis M Hoffman\")',\n       'Byles, Rev. Thomas Roussel Davids', 'Bateman, Rev. Robert James',\n       'Pears, Mrs. Thomas (Edith Wearne)', 'Meo, Mr. Alfonzo',\n       'van Billiard, Mr. Austin Blyler', 'Olsen, Mr. Ole Martin',\n       'Williams, Mr. Charles Duane', 'Gilnagh, Miss. Katherine \"Katie\"',\n       'Corn, Mr. Harry', 'Smiljanic, Mr. Mile',\n       'Sage, Master. Thomas Henry', 'Cribb, Mr. John Hatfield',\n       'Watt, Mrs. James (Elizabeth \"Bessie\" Inglis Milne)',\n       'Bengtsson, Mr. John Viktor', 'Calic, Mr. Jovo',\n       'Panula, Master. Eino Viljami',\n       'Goldsmith, Master. Frank John William \"Frankie\"',\n       'Chibnall, Mrs. (Edith Martha Bowerman)',\n       'Skoog, Mrs. William (Anna Bernhardina Karlsson)',\n       'Baumann, Mr. John D', 'Ling, Mr. Lee',\n       'Van der hoef, Mr. Wyckoff', 'Rice, Master. Arthur',\n       'Johnson, Miss. Eleanor Ileen', 'Sivola, Mr. Antti Wilhelm',\n       'Smith, Mr. James Clinch', 'Klasen, Mr. Klas Albin',\n       'Lefebre, Master. Henry Forbes', 'Isham, Miss. Ann Elizabeth',\n       'Hale, Mr. Reginald', 'Leonard, Mr. Lionel',\n       'Sage, Miss. Constance Gladys', 'Pernot, Mr. Rene',\n       'Asplund, Master. Clarence Gustaf Hugo',\n       'Becker, Master. Richard F', 'Kink-Heilmann, Miss. Luise Gretchen',\n       'Rood, Mr. Hugh Roscoe',\n       'O\\'Brien, Mrs. Thomas (Johanna \"Hannah\" Godfrey)',\n       'Romaine, Mr. Charles Hallace (\"Mr C Rolmane\")',\n       'Bourke, Mr. John', 'Turcin, Mr. Stjepan', 'Pinsky, Mrs. (Rosa)',\n       'Carbines, Mr. William',\n       'Andersen-Jensen, Miss. Carla Christine Nielsine',\n       'Navratil, Master. Michel M',\n       'Brown, Mrs. James Joseph (Margaret Tobin)',\n       'Lurette, Miss. Elise', 'Mernagh, Mr. Robert',\n       'Olsen, Mr. Karl Siegwart Andreas',\n       'Madigan, Miss. Margaret \"Maggie\"',\n       'Yrois, Miss. Henriette (\"Mrs Harbeck\")',\n       'Vande Walle, Mr. Nestor Cyriel', 'Sage, Mr. Frederick',\n       'Johanson, Mr. Jakob Alfred', 'Youseff, Mr. Gerious',\n       'Cohen, Mr. Gurshon \"Gus\"', 'Strom, Miss. Telma Matilda',\n       'Backstrom, Mr. Karl Alfred', 'Albimona, Mr. Nassef Cassem',\n       'Carr, Miss. Helen \"Ellen\"', 'Blank, Mr. Henry', 'Ali, Mr. Ahmed',\n       'Cameron, Miss. Clear Annie', 'Perkin, Mr. John Henry',\n       'Givard, Mr. Hans Kristensen', 'Kiernan, Mr. Philip',\n       'Newell, Miss. Madeleine', 'Honkanen, Miss. Eliina',\n       'Jacobsohn, Mr. Sidney Samuel', 'Bazzani, Miss. Albina',\n       'Harris, Mr. Walter', 'Sunderland, Mr. Victor Francis',\n       'Bracken, Mr. James H', 'Green, Mr. George Henry',\n       'Nenkoff, Mr. Christo', 'Hoyt, Mr. Frederick Maxfield',\n       'Berglund, Mr. Karl Ivar Sven', 'Mellors, Mr. William John',\n       'Lovell, Mr. John Hall (\"Henry\")', 'Fahlstrom, Mr. Arne Jonas',\n       'Lefebre, Miss. Mathilde',\n       'Harris, Mrs. Henry Birkhardt (Irene Wallach)',\n       'Larsson, Mr. Bengt Edvin', 'Sjostedt, Mr. Ernst Adolf',\n       'Asplund, Miss. Lillian Gertrud',\n       'Leyson, Mr. Robert William Norman',\n       'Harknett, Miss. Alice Phoebe', 'Hold, Mr. Stephen',\n       'Collyer, Miss. Marjorie \"Lottie\"',\n       'Pengelly, Mr. Frederick William', 'Hunt, Mr. George Henry',\n       'Zabour, Miss. Thamine', 'Murphy, Miss. Katherine \"Kate\"',\n       'Coleridge, Mr. Reginald Charles', 'Maenpaa, Mr. Matti Alexanteri',\n       'Attalah, Mr. Sleiman', 'Minahan, Dr. William Edward',\n       'Lindahl, Miss. Agda Thorilda Viktoria',\n       'Hamalainen, Mrs. William (Anna)', 'Beckwith, Mr. Richard Leonard',\n       'Carter, Rev. Ernest Courtenay', 'Reed, Mr. James George',\n       'Strom, Mrs. Wilhelm (Elna Matilda Persson)',\n       'Stead, Mr. William Thomas', 'Lobb, Mr. William Arthur',\n       'Rosblom, Mrs. Viktor (Helena Wilhelmina)',\n       'Touma, Mrs. Darwis (Hanne Youssef Razi)',\n       'Thorne, Mrs. Gertrude Maybelle', 'Cherry, Miss. Gladys',\n       'Ward, Miss. Anna', 'Parrish, Mrs. (Lutie Davis)',\n       'Smith, Mr. Thomas', 'Asplund, Master. Edvin Rojj Felix',\n       'Taussig, Mr. Emil', 'Harrison, Mr. William', 'Henry, Miss. Delia',\n       'Reeves, Mr. David', 'Panula, Mr. Ernesti Arvid',\n       'Persson, Mr. Ernst Ulrik',\n       'Graham, Mrs. William Thompson (Edith Junkins)',\n       'Bissette, Miss. Amelia', 'Cairns, Mr. Alexander',\n       'Tornquist, Mr. William Henry',\n       'Mellinger, Mrs. (Elizabeth Anne Maidment)',\n       'Natsch, Mr. Charles H', 'Healy, Miss. Hanora \"Nora\"',\n       'Andrews, Miss. Kornelia Theodosia',\n       'Lindblom, Miss. Augusta Charlotta', 'Parkes, Mr. Francis \"Frank\"',\n       'Rice, Master. Eric', 'Abbott, Mrs. Stanton (Rosa Hunt)',\n       'Duane, Mr. Frank', 'Olsson, Mr. Nils Johan Goransson',\n       'de Pelsmaeker, Mr. Alfons', 'Dorking, Mr. Edward Arthur',\n       'Smith, Mr. Richard William', 'Stankovic, Mr. Ivan',\n       'de Mulder, Mr. Theodore', 'Naidenoff, Mr. Penko',\n       'Hosono, Mr. Masabumi', 'Connolly, Miss. Kate',\n       'Barber, Miss. Ellen \"Nellie\"',\n       'Bishop, Mrs. Dickinson H (Helen Walton)',\n       'Levy, Mr. Rene Jacques', 'Haas, Miss. Aloisia',\n       'Mineff, Mr. Ivan', 'Lewy, Mr. Ervin G', 'Hanna, Mr. Mansour',\n       'Allison, Miss. Helen Loraine', 'Saalfeld, Mr. Adolphe',\n       'Baxter, Mrs. James (Helene DeLaudeniere Chaput)',\n       'Kelly, Miss. Anna Katherine \"Annie Kate\"', 'McCoy, Mr. Bernard',\n       'Johnson, Mr. William Cahoone Jr', 'Keane, Miss. Nora A',\n       'Williams, Mr. Howard Hugh \"Harry\"',\n       'Allison, Master. Hudson Trevor', 'Fleming, Miss. Margaret',\n       'Penasco y Castellana, Mrs. Victor de Satode (Maria Josefa Perez de Soto y Vallejo)',\n       'Abelson, Mr. Samuel', 'Francatelli, Miss. Laura Mabel',\n       'Hays, Miss. Margaret Bechstein', 'Ryerson, Miss. Emily Borie',\n       'Lahtinen, Mrs. William (Anna Sylfven)', 'Hendekovic, Mr. Ignjac',\n       'Hart, Mr. Benjamin', 'Nilsson, Miss. Helmina Josefina',\n       'Kantor, Mrs. Sinai (Miriam Sternin)', 'Moraweck, Dr. Ernest',\n       'Wick, Miss. Mary Natalie',\n       'Spedden, Mrs. Frederic Oakley (Margaretta Corning Stone)',\n       'Dennis, Mr. Samuel', 'Danoff, Mr. Yoto',\n       'Slayter, Miss. Hilda Mary',\n       'Caldwell, Mrs. Albert Francis (Sylvia Mae Harbaugh)',\n       'Sage, Mr. George John Jr', 'Young, Miss. Marie Grice',\n       'Nysveen, Mr. Johan Hansen', 'Ball, Mrs. (Ada E Hall)',\n       'Goldsmith, Mrs. Frank John (Emily Alice Brown)',\n       'Hippach, Miss. Jean Gertrude', 'McCoy, Miss. Agnes',\n       'Partner, Mr. Austen', 'Graham, Mr. George Edward',\n       'Vander Planke, Mr. Leo Edmondus',\n       'Frauenthal, Mrs. Henry William (Clara Heinsheimer)',\n       'Denkoff, Mr. Mitto', 'Pears, Mr. Thomas Clinton',\n       'Burns, Miss. Elizabeth Margaret', 'Dahl, Mr. Karl Edwart',\n       'Blackwell, Mr. Stephen Weart', 'Navratil, Master. Edmond Roger',\n       'Fortune, Miss. Alice Elizabeth', 'Collander, Mr. Erik Gustaf',\n       'Sedgwick, Mr. Charles Frederick Waddington',\n       'Fox, Mr. Stanley Hubert', 'Brown, Miss. Amelia \"Mildred\"',\n       'Smith, Miss. Marion Elsie',\n       'Davison, Mrs. Thomas Henry (Mary E Finck)',\n       'Coutts, Master. William Loch \"William\"', 'Dimic, Mr. Jovan',\n       'Odahl, Mr. Nils Martin', 'Williams-Lambert, Mr. Fletcher Fellows',\n       'Elias, Mr. Tannous', 'Arnold-Franchi, Mr. Josef',\n       'Yousif, Mr. Wazli', 'Vanden Steen, Mr. Leo Peter',\n       'Bowerman, Miss. Elsie Edith', 'Funk, Miss. Annie Clemmer',\n       'McGovern, Miss. Mary', 'Mockler, Miss. Helen Mary \"Ellie\"',\n       'Skoog, Mr. Wilhelm', 'del Carlo, Mr. Sebastiano',\n       'Barbara, Mrs. (Catherine David)', 'Asim, Mr. Adola',\n       \"O'Brien, Mr. Thomas\", 'Adahl, Mr. Mauritz Nils Martin',\n       'Warren, Mrs. Frank Manley (Anna Sophia Atkinson)',\n       'Moussa, Mrs. (Mantoura Boulos)', 'Jermyn, Miss. Annie',\n       'Aubart, Mme. Leontine Pauline', 'Harder, Mr. George Achilles',\n       'Wiklund, Mr. Jakob Alfred', 'Beavan, Mr. William Thomas',\n       'Ringhini, Mr. Sante', 'Palsson, Miss. Stina Viola',\n       'Meyer, Mrs. Edgar Joseph (Leila Saks)',\n       'Landergren, Miss. Aurora Adelia', 'Widener, Mr. Harry Elkins',\n       'Betros, Mr. Tannous', 'Gustafsson, Mr. Karl Gideon',\n       'Bidois, Miss. Rosalie', 'Nakid, Miss. Maria (\"Mary\")',\n       'Tikkanen, Mr. Juho',\n       'Holverson, Mrs. Alexander Oskar (Mary Aline Towner)',\n       'Plotcharsky, Mr. Vasil', 'Davies, Mr. Charles Henry',\n       'Goodwin, Master. Sidney Leonard', 'Buss, Miss. Kate',\n       'Sadlier, Mr. Matthew', 'Lehmann, Miss. Bertha',\n       'Carter, Mr. William Ernest', 'Jansson, Mr. Carl Olof',\n       'Gustafsson, Mr. Johan Birger', 'Newell, Miss. Marjorie',\n       'Sandstrom, Mrs. Hjalmar (Agnes Charlotta Bengtsson)',\n       'Johansson, Mr. Erik', 'Olsson, Miss. Elina',\n       'McKane, Mr. Peter David', 'Pain, Dr. Alfred',\n       'Trout, Mrs. William H (Jessie L)', 'Niskanen, Mr. Juha',\n       'Adams, Mr. John', 'Jussila, Miss. Mari Aina',\n       'Hakkarainen, Mr. Pekka Pietari', 'Oreskovic, Miss. Marija',\n       'Gale, Mr. Shadrach', 'Widegren, Mr. Carl/Charles Peter',\n       'Richards, Master. William Rowe',\n       'Birkeland, Mr. Hans Martin Monsen', 'Lefebre, Miss. Ida',\n       'Sdycoff, Mr. Todor', 'Hart, Mr. Henry', 'Minahan, Miss. Daisy E',\n       'Cunningham, Mr. Alfred Fleming', 'Sundman, Mr. Johan Julian',\n       'Meek, Mrs. Thomas (Annie Louise Rowley)',\n       'Drew, Mrs. James Vivian (Lulu Thorne Christian)',\n       'Silven, Miss. Lyyli Karoliina', 'Matthews, Mr. William John',\n       'Van Impe, Miss. Catharina', 'Gheorgheff, Mr. Stanio',\n       'Charters, Mr. David', 'Zimmerman, Mr. Leo',\n       'Danbom, Mrs. Ernst Gilbert (Anna Sigrid Maria Brogren)',\n       'Rosblom, Mr. Viktor Richard', 'Wiseman, Mr. Phillippe',\n       'Clarke, Mrs. Charles V (Ada Maria Winfield)',\n       'Phillips, Miss. Kate Florence (\"Mrs Kate Louise Phillips Marshall\")',\n       'Flynn, Mr. James', 'Pickard, Mr. Berk (Berk Trembisky)',\n       'Bjornstrom-Steffansson, Mr. Mauritz Hakan',\n       'Thorneycroft, Mrs. Percival (Florence Kate White)',\n       'Louch, Mrs. Charles Alexander (Alice Adelaide Slow)',\n       'Kallio, Mr. Nikolai Erland', 'Silvey, Mr. William Baird',\n       'Carter, Miss. Lucile Polk',\n       'Ford, Miss. Doolina Margaret \"Daisy\"',\n       'Richards, Mrs. Sidney (Emily Hocking)', 'Fortune, Mr. Mark',\n       'Kvillner, Mr. Johan Henrik Johannesson',\n       'Hart, Mrs. Benjamin (Esther Ada Bloomfield)', 'Hampe, Mr. Leon',\n       'Petterson, Mr. Johan Emil', 'Reynaldo, Ms. Encarnacion',\n       'Johannesen-Bratthammer, Mr. Bernt', 'Dodge, Master. Washington',\n       'Mellinger, Miss. Madeleine Violet', 'Seward, Mr. Frederic Kimber',\n       'Baclini, Miss. Marie Catherine', 'Peuchen, Major. Arthur Godfrey',\n       'West, Mr. Edwy Arthur', 'Hagland, Mr. Ingvald Olai Olsen',\n       'Foreman, Mr. Benjamin Laventall', 'Goldenberg, Mr. Samuel L',\n       'Peduzzi, Mr. Joseph', 'Jalsevac, Mr. Ivan',\n       'Millet, Mr. Francis Davis', 'Kenyon, Mrs. Frederick R (Marion)',\n       'Toomey, Miss. Ellen', \"O'Connor, Mr. Maurice\",\n       'Anderson, Mr. Harry', 'Morley, Mr. William', 'Gee, Mr. Arthur H',\n       'Milling, Mr. Jacob Christian', 'Maisner, Mr. Simon',\n       'Goncalves, Mr. Manuel Estanslas', 'Campbell, Mr. William',\n       'Smart, Mr. John Montgomery', 'Scanlan, Mr. James',\n       'Baclini, Miss. Helene Barbara', 'Keefe, Mr. Arthur',\n       'Cacic, Mr. Luka', 'West, Mrs. Edwy Arthur (Ada Mary Worth)',\n       'Jerwan, Mrs. Amin S (Marie Marthe Thuillard)',\n       'Strandberg, Miss. Ida Sofia', 'Clifford, Mr. George Quincy',\n       'Renouf, Mr. Peter Henry', 'Braund, Mr. Lewis Richard',\n       'Karlsson, Mr. Nils August', 'Hirvonen, Miss. Hildur E',\n       'Goodwin, Master. Harold Victor',\n       'Frost, Mr. Anthony Wood \"Archie\"', 'Rouse, Mr. Richard Henry',\n       'Turkula, Mrs. (Hedwig)', 'Bishop, Mr. Dickinson H',\n       'Lefebre, Miss. Jeannie',\n       'Hoyt, Mrs. Frederick Maxfield (Jane Anne Forby)',\n       'Kent, Mr. Edward Austin', 'Somerton, Mr. Francis William',\n       'Coutts, Master. Eden Leslie \"Neville\"',\n       'Hagland, Mr. Konrad Mathias Reiersen', 'Windelov, Mr. Einar',\n       'Molson, Mr. Harry Markland', 'Artagaveytia, Mr. Ramon',\n       'Stanley, Mr. Edward Roland', 'Yousseff, Mr. Gerious',\n       'Eustis, Miss. Elizabeth Mussey',\n       'Shellard, Mr. Frederick William',\n       'Allison, Mrs. Hudson J C (Bessie Waldo Daniels)',\n       'Svensson, Mr. Olof', 'Calic, Mr. Petar', 'Canavan, Miss. Mary',\n       \"O'Sullivan, Miss. Bridget Mary\", 'Laitinen, Miss. Kristina Sofia',\n       'Maioni, Miss. Roberta',\n       'Penasco y Castellana, Mr. Victor de Satode',\n       'Quick, Mrs. Frederick Charles (Jane Richards)',\n       'Bradley, Mr. George (\"George Arthur Brayton\")',\n       'Olsen, Mr. Henry Margido', 'Lang, Mr. Fang',\n       'Daly, Mr. Eugene Patrick', 'Webber, Mr. James',\n       'McGough, Mr. James Robert',\n       'Rothschild, Mrs. Martin (Elizabeth L. Barrett)',\n       'Coleff, Mr. Satio', 'Walker, Mr. William Anderson',\n       'Lemore, Mrs. (Amelia Milley)', 'Ryan, Mr. Patrick',\n       'Angle, Mrs. William A (Florence \"Mary\" Agnes Hughes)',\n       'Pavlovic, Mr. Stefo', 'Perreault, Miss. Anne', 'Vovk, Mr. Janko',\n       'Lahoud, Mr. Sarkis',\n       'Hippach, Mrs. Louis Albert (Ida Sophia Fischer)',\n       'Kassem, Mr. Fared', 'Farrell, Mr. James', 'Ridsdale, Miss. Lucy',\n       'Farthing, Mr. John', 'Salonen, Mr. Johan Werner',\n       'Hocking, Mr. Richard George', 'Quick, Miss. Phyllis May',\n       'Toufik, Mr. Nakli', 'Elias, Mr. Joseph Jr',\n       'Peter, Mrs. Catherine (Catherine Rizk)', 'Cacic, Miss. Marija',\n       'Hart, Miss. Eva Miriam', 'Butt, Major. Archibald Willingham',\n       'LeRoy, Miss. Bertha', 'Risien, Mr. Samuel Beard',\n       'Frolicher, Miss. Hedwig Margaritha', 'Crosby, Miss. Harriet R',\n       'Andersson, Miss. Ingeborg Constanzia',\n       'Andersson, Miss. Sigrid Elisabeth', 'Beane, Mr. Edward',\n       'Douglas, Mr. Walter Donald', 'Nicholson, Mr. Arthur Ernest',\n       'Beane, Mrs. Edward (Ethel Clarke)', 'Padro y Manent, Mr. Julian',\n       'Goldsmith, Mr. Frank John', 'Davies, Master. John Morgan Jr',\n       'Thayer, Mr. John Borland Jr', 'Sharp, Mr. Percival James R',\n       \"O'Brien, Mr. Timothy\", 'Leeni, Mr. Fahim (\"Philip Zenni\")',\n       'Ohman, Miss. Velin', 'Wright, Mr. George',\n       'Duff Gordon, Lady. (Lucille Christiana Sutherland) (\"Mrs Morgan\")',\n       'Robbins, Mr. Victor', 'Taussig, Mrs. Emil (Tillie Mandelbaum)',\n       'de Messemaeker, Mrs. Guillaume Joseph (Emma)',\n       'Morrow, Mr. Thomas Rowan', 'Sivic, Mr. Husein',\n       'Norman, Mr. Robert Douglas', 'Simmons, Mr. John',\n       'Meanwell, Miss. (Marion Ogden)', 'Davies, Mr. Alfred J',\n       'Stoytcheff, Mr. Ilia',\n       'Palsson, Mrs. Nils (Alma Cornelia Berglund)',\n       'Doharr, Mr. Tannous', 'Jonsson, Mr. Carl', 'Harris, Mr. George',\n       'Appleton, Mrs. Edward Dale (Charlotte Lamson)',\n       'Flynn, Mr. John Irwin (\"Irving\")', 'Kelly, Miss. Mary',\n       'Rush, Mr. Alfred George John', 'Patchett, Mr. George',\n       'Garside, Miss. Ethel',\n       'Silvey, Mrs. William Baird (Alice Munger)',\n       'Caram, Mrs. Joseph (Maria Elias)', 'Jussila, Mr. Eiriik',\n       'Christy, Miss. Julie Rachel',\n       'Thayer, Mrs. John Borland (Marian Longstreth Morris)',\n       'Downton, Mr. William James', 'Ross, Mr. John Hugo',\n       'Paulner, Mr. Uscher', 'Taussig, Miss. Ruth',\n       'Jarvis, Mr. John Denzil', 'Frolicher-Stehli, Mr. Maxmillian',\n       'Gilinski, Mr. Eliezer', 'Murdlin, Mr. Joseph',\n       'Rintamaki, Mr. Matti',\n       'Stephenson, Mrs. Walter Bertram (Martha Eustis)',\n       'Elsbury, Mr. William James', 'Bourke, Miss. Mary',\n       'Chapman, Mr. John Henry', 'Van Impe, Mr. Jean Baptiste',\n       'Leitch, Miss. Jessie Wills', 'Johnson, Mr. Alfred',\n       'Boulos, Mr. Hanna',\n       'Duff Gordon, Sir. Cosmo Edmund (\"Mr Morgan\")',\n       'Jacobsohn, Mrs. Sidney Samuel (Amy Frances Christy)',\n       'Slabenoff, Mr. Petco', 'Harrington, Mr. Charles H',\n       'Torber, Mr. Ernst William', 'Homer, Mr. Harry (\"Mr E Haven\")',\n       'Lindell, Mr. Edvard Bengtsson', 'Karaic, Mr. Milan',\n       'Daniel, Mr. Robert Williams',\n       'Laroche, Mrs. Joseph (Juliette Marie Louise Lafargue)',\n       'Shutes, Miss. Elizabeth W',\n       'Andersson, Mrs. Anders Johan (Alfrida Konstantia Brogren)',\n       'Jardin, Mr. Jose Neto', 'Murphy, Miss. Margaret Jane',\n       'Horgan, Mr. John', 'Brocklebank, Mr. William Alfred',\n       'Herman, Miss. Alice', 'Danbom, Mr. Ernst Gilbert',\n       'Lobb, Mrs. William Arthur (Cordelia K Stanlick)',\n       'Becker, Miss. Marion Louise', 'Gavey, Mr. Lawrence',\n       'Yasbeck, Mr. Antoni', 'Kimball, Mr. Edwin Nelson Jr',\n       'Nakid, Mr. Sahid', 'Hansen, Mr. Henry Damsgaard',\n       'Bowen, Mr. David John \"Dai\"', 'Sutton, Mr. Frederick',\n       'Kirkland, Rev. Charles Leonard', 'Longley, Miss. Gretchen Fiske',\n       'Bostandyeff, Mr. Guentcho', \"O'Connell, Mr. Patrick D\",\n       'Barkworth, Mr. Algernon Henry Wilson',\n       'Lundahl, Mr. Johan Svensson', 'Stahelin-Maeglin, Dr. Max',\n       'Parr, Mr. William Henry Marsh', 'Skoog, Miss. Mabel',\n       'Davis, Miss. Mary', 'Leinonen, Mr. Antti Gustaf',\n       'Collyer, Mr. Harvey', 'Panula, Mrs. Juha (Maria Emilia Ojala)',\n       'Thorneycroft, Mr. Percival', 'Jensen, Mr. Hans Peder',\n       'Sagesser, Mlle. Emma', 'Skoog, Miss. Margit Elizabeth',\n       'Foo, Mr. Choong', 'Baclini, Miss. Eugenie',\n       'Harper, Mr. Henry Sleeper', 'Cor, Mr. Liudevit',\n       'Simonius-Blumer, Col. Oberst Alfons', 'Willey, Mr. Edward',\n       'Stanley, Miss. Amy Zillah Elsie', 'Mitkoff, Mr. Mito',\n       'Doling, Miss. Elsie', 'Kalvik, Mr. Johannes Halvorsen',\n       'O\\'Leary, Miss. Hanora \"Norah\"', 'Hegarty, Miss. Hanora \"Nora\"',\n       'Hickman, Mr. Leonard Mark', 'Radeff, Mr. Alexander',\n       'Bourke, Mrs. John (Catherine)', 'Eitemiller, Mr. George Floyd',\n       'Newell, Mr. Arthur Webster', 'Frauenthal, Dr. Henry William',\n       'Badt, Mr. Mohamed', 'Colley, Mr. Edward Pomeroy',\n       'Coleff, Mr. Peju', 'Lindqvist, Mr. Eino William',\n       'Hickman, Mr. Lewis', 'Butler, Mr. Reginald Fenton',\n       'Rommetvedt, Mr. Knud Paust', 'Cook, Mr. Jacob',\n       'Taylor, Mrs. Elmer Zebley (Juliet Cummins Wright)',\n       'Brown, Mrs. Thomas William Solomon (Elizabeth Catherine Ford)',\n       'Davidson, Mr. Thornton', 'Mitchell, Mr. Henry Michael',\n       'Wilhelms, Mr. Charles', 'Watson, Mr. Ennis Hastings',\n       'Edvardsson, Mr. Gustaf Hjalmar', 'Sawyer, Mr. Frederick Charles',\n       'Turja, Miss. Anna Sofia',\n       'Goodwin, Mrs. Frederick (Augusta Tyler)',\n       'Cardeza, Mr. Thomas Drake Martinez', 'Peters, Miss. Katie',\n       'Hassab, Mr. Hammad', 'Olsvigen, Mr. Thor Anderson',\n       'Goodwin, Mr. Charles Edward', 'Brown, Mr. Thomas William Solomon',\n       'Laroche, Mr. Joseph Philippe Lemercier',\n       'Panula, Mr. Jaako Arnold', 'Dakic, Mr. Branko',\n       'Fischer, Mr. Eberhard Thelander',\n       'Madill, Miss. Georgette Alexandra', 'Dick, Mr. Albert Adrian',\n       'Karun, Miss. Manca', 'Lam, Mr. Ali', 'Saad, Mr. Khalil',\n       'Weir, Col. John', 'Chapman, Mr. Charles Henry',\n       'Kelly, Mr. James', 'Mullens, Miss. Katherine \"Katie\"',\n       'Thayer, Mr. John Borland',\n       'Humblen, Mr. Adolf Mathias Nicolai Olsen',\n       'Astor, Mrs. John Jacob (Madeleine Talmadge Force)',\n       'Silverthorne, Mr. Spencer Victor', 'Barbara, Miss. Saiide',\n       'Gallagher, Mr. Martin', 'Hansen, Mr. Henrik Juul',\n       'Morley, Mr. Henry Samuel (\"Mr Henry Marshall\")',\n       'Kelly, Mrs. Florence \"Fannie\"',\n       'Calderhead, Mr. Edward Pennington', 'Cleaver, Miss. Alice',\n       'Moubarek, Master. Halim Gonios (\"William George\")',\n       'Mayne, Mlle. Berthe Antonine (\"Mrs de Villiers\")',\n       'Klaber, Mr. Herman', 'Taylor, Mr. Elmer Zebley',\n       'Larsson, Mr. August Viktor', 'Greenberg, Mr. Samuel',\n       'Soholt, Mr. Peter Andreas Lauritz Andersen',\n       'Endres, Miss. Caroline Louise',\n       'Troutt, Miss. Edwina Celia \"Winnie\"', 'McEvoy, Mr. Michael',\n       'Johnson, Mr. Malkolm Joackim',\n       'Harper, Miss. Annie Jessie \"Nina\"', 'Jensen, Mr. Svend Lauritz',\n       'Gillespie, Mr. William Henry', 'Hodges, Mr. Henry Price',\n       'Chambers, Mr. Norman Campbell', 'Oreskovic, Mr. Luka',\n       'Renouf, Mrs. Peter Henry (Lillian Jefferys)',\n       'Mannion, Miss. Margareth', 'Bryhl, Mr. Kurt Arnold Gottfrid',\n       'Ilmakangas, Miss. Pieta Sofia', 'Allen, Miss. Elisabeth Walton',\n       'Hassan, Mr. Houssein G N', 'Knight, Mr. Robert J',\n       'Berriman, Mr. William John', 'Troupiansky, Mr. Moses Aaron',\n       'Williams, Mr. Leslie', 'Ford, Mrs. Edward (Margaret Ann Watson)',\n       'Lesurer, Mr. Gustave J', 'Ivanoff, Mr. Kanio',\n       'Nankoff, Mr. Minko', 'Hawksford, Mr. Walter James',\n       'Cavendish, Mr. Tyrell William',\n       'Ryerson, Miss. Susan Parker \"Suzette\"', 'McNamee, Mr. Neal',\n       'Stranden, Mr. Juho', 'Crosby, Capt. Edward Gifford',\n       'Abbott, Mr. Rossmore Edward', 'Sinkkonen, Miss. Anna',\n       'Marvin, Mr. Daniel Warner', 'Connaghton, Mr. Michael',\n       'Wells, Miss. Joan', 'Moor, Master. Meier',\n       'Vande Velde, Mr. Johannes Joseph', 'Jonkoff, Mr. Lalio',\n       'Herman, Mrs. Samuel (Jane Laver)', 'Hamalainen, Master. Viljo',\n       'Carlsson, Mr. August Sigfrid', 'Bailey, Mr. Percy Andrew',\n       'Theobald, Mr. Thomas Leonard',\n       'Rothes, the Countess. of (Lucy Noel Martha Dyer-Edwards)',\n       'Garfirth, Mr. John', 'Nirva, Mr. Iisakki Antino Aijo',\n       'Barah, Mr. Hanna Assi',\n       'Carter, Mrs. William Ernest (Lucile Polk)',\n       'Eklund, Mr. Hans Linus', 'Hogeboom, Mrs. John C (Anna Andrews)',\n       'Brewe, Dr. Arthur Jackson', 'Mangan, Miss. Mary',\n       'Moran, Mr. Daniel J', 'Gronnestad, Mr. Daniel Danielsen',\n       'Lievens, Mr. Rene Aime', 'Jensen, Mr. Niels Peder',\n       'Mack, Mrs. (Mary)', 'Elias, Mr. Dibo',\n       'Hocking, Mrs. Elizabeth (Eliza Needs)',\n       'Myhrman, Mr. Pehr Fabian Oliver Malkolm', 'Tobin, Mr. Roger',\n       'Emanuel, Miss. Virginia Ethel', 'Kilgannon, Mr. Thomas J',\n       'Robert, Mrs. Edward Scott (Elisabeth Walton McMillan)',\n       'Ayoub, Miss. Banoura',\n       'Dick, Mrs. Albert Adrian (Vera Gillespie)',\n       'Long, Mr. Milton Clyde', 'Johnston, Mr. Andrew G',\n       'Ali, Mr. William', 'Harmer, Mr. Abraham (David Lishin)',\n       'Sjoblom, Miss. Anna Sofia', 'Rice, Master. George Hugh',\n       'Dean, Master. Bertram Vere', 'Guggenheim, Mr. Benjamin',\n       'Keane, Mr. Andrew \"Andy\"', 'Gaskell, Mr. Alfred',\n       'Sage, Miss. Stella Anna', 'Hoyt, Mr. William Fisher',\n       'Dantcheff, Mr. Ristiu', 'Otter, Mr. Richard',\n       'Leader, Dr. Alice (Farnham)', 'Osman, Mrs. Mara',\n       'Ibrahim Shawah, Mr. Yousseff',\n       'Van Impe, Mrs. Jean Baptiste (Rosalie Paula Govaert)',\n       'Ponesell, Mr. Martin',\n       'Collyer, Mrs. Harvey (Charlotte Annie Tate)',\n       'Carter, Master. William Thornton II',\n       'Thomas, Master. Assad Alexander', 'Hedman, Mr. Oskar Arvid',\n       'Johansson, Mr. Karl Johan', 'Andrews, Mr. Thomas Jr',\n       'Pettersson, Miss. Ellen Natalia', 'Meyer, Mr. August',\n       'Chambers, Mrs. Norman Campbell (Bertha Griggs)',\n       'Alexander, Mr. William', 'Lester, Mr. James',\n       'Slemen, Mr. Richard James', 'Andersson, Miss. Ebba Iris Alfrida',\n       'Tomlin, Mr. Ernest Portage', 'Fry, Mr. Richard',\n       'Heininen, Miss. Wendla Maria', 'Mallet, Mr. Albert',\n       'Holm, Mr. John Fredrik Alexander', 'Skoog, Master. Karl Thorsten',\n       'Hays, Mrs. Charles Melville (Clara Jennings Gregg)',\n       'Lulic, Mr. Nikola', 'Reuchlin, Jonkheer. John George',\n       'Moor, Mrs. (Beila)', 'Panula, Master. Urho Abraham',\n       'Flynn, Mr. John', 'Lam, Mr. Len', 'Mallet, Master. Andre',\n       'McCormack, Mr. Thomas Joseph',\n       'Stone, Mrs. George Nelson (Martha Evelyn)',\n       'Yasbeck, Mrs. Antoni (Selini Alexander)',\n       'Richards, Master. George Sibley', 'Saad, Mr. Amin',\n       'Augustsson, Mr. Albert', 'Allum, Mr. Owen George',\n       'Compton, Miss. Sara Rebecca', 'Pasic, Mr. Jakob',\n       'Sirota, Mr. Maurice', 'Chip, Mr. Chang', 'Marechal, Mr. Pierre',\n       'Alhomaki, Mr. Ilmari Rudolf', 'Mudd, Mr. Thomas Charles',\n       'Serepeca, Miss. Augusta', 'Lemberopolous, Mr. Peter L',\n       'Culumovic, Mr. Jeso', 'Abbing, Mr. Anthony',\n       'Sage, Mr. Douglas Bullen', 'Markoff, Mr. Marin',\n       'Harper, Rev. John',\n       'Goldenberg, Mrs. Samuel L (Edwiga Grabowska)',\n       'Andersson, Master. Sigvard Harald Elias', 'Svensson, Mr. Johan',\n       'Boulos, Miss. Nourelain', 'Lines, Miss. Mary Conover',\n       'Carter, Mrs. Ernest Courtenay (Lilian Hughes)',\n       'Aks, Mrs. Sam (Leah Rosen)',\n       'Wick, Mrs. George Dennick (Mary Hitchcock)',\n       'Daly, Mr. Peter Denis ', 'Baclini, Mrs. Solomon (Latifa Qurban)',\n       'Razi, Mr. Raihed', 'Hansen, Mr. Claus Peter',\n       'Giles, Mr. Frederick Edward',\n       'Swift, Mrs. Frederick Joel (Margaret Welles Barron)',\n       'Sage, Miss. Dorothy Edith \"Dolly\"', 'Gill, Mr. John William',\n       'Bystrom, Mrs. (Karolina)', 'Duran y More, Miss. Asuncion',\n       'Roebling, Mr. Washington Augustus II',\n       'van Melkebeke, Mr. Philemon', 'Johnson, Master. Harold Theodor',\n       'Balkic, Mr. Cerin',\n       'Beckwith, Mrs. Richard Leonard (Sallie Monypeny)',\n       'Carlsson, Mr. Frans Olof', 'Vander Cruyssen, Mr. Victor',\n       'Abelson, Mrs. Samuel (Hannah Wizosky)',\n       'Najib, Miss. Adele Kiamie \"Jane\"',\n       'Gustafsson, Mr. Alfred Ossian', 'Petroff, Mr. Nedelio',\n       'Laleff, Mr. Kristo',\n       'Potter, Mrs. Thomas Jr (Lily Alexenia Wilson)',\n       'Shelley, Mrs. William (Imanita Parrish Hall)',\n       'Markun, Mr. Johann', 'Dahlberg, Miss. Gerda Ulrika',\n       'Banfield, Mr. Frederick James', 'Sutehall, Mr. Henry Jr',\n       'Rice, Mrs. William (Margaret Norton)', 'Montvila, Rev. Juozas',\n       'Graham, Miss. Margaret Edith',\n       'Johnston, Miss. Catherine Helen \"Carrie\"',\n       'Behr, Mr. Karl Howell', 'Dooley, Mr. Patrick'], dtype=object)"
                },
                "metadata": {}
              }
            ]
          }
        },
        "11845c82079e4e7094d497e31580b2f6": {
          "model_module": "@jupyter-widgets/base",
          "model_name": "LayoutModel",
          "model_module_version": "1.2.0",
          "state": {
            "_model_module": "@jupyter-widgets/base",
            "_model_module_version": "1.2.0",
            "_model_name": "LayoutModel",
            "_view_count": null,
            "_view_module": "@jupyter-widgets/base",
            "_view_module_version": "1.2.0",
            "_view_name": "LayoutView",
            "align_content": null,
            "align_items": null,
            "align_self": null,
            "border": null,
            "bottom": null,
            "display": null,
            "flex": null,
            "flex_flow": null,
            "grid_area": null,
            "grid_auto_columns": null,
            "grid_auto_flow": null,
            "grid_auto_rows": null,
            "grid_column": null,
            "grid_gap": null,
            "grid_row": null,
            "grid_template_areas": null,
            "grid_template_columns": null,
            "grid_template_rows": null,
            "height": null,
            "justify_content": null,
            "justify_items": null,
            "left": null,
            "margin": null,
            "max_height": null,
            "max_width": null,
            "min_height": null,
            "min_width": null,
            "object_fit": null,
            "object_position": null,
            "order": null,
            "overflow": null,
            "overflow_x": null,
            "overflow_y": null,
            "padding": null,
            "right": null,
            "top": null,
            "visibility": null,
            "width": null
          }
        },
        "72c995f4701a40f5bcdf0a68974423ef": {
          "model_module": "@jupyter-widgets/controls",
          "model_name": "HBoxModel",
          "model_module_version": "1.5.0",
          "state": {
            "_dom_classes": [],
            "_model_module": "@jupyter-widgets/controls",
            "_model_module_version": "1.5.0",
            "_model_name": "HBoxModel",
            "_view_count": null,
            "_view_module": "@jupyter-widgets/controls",
            "_view_module_version": "1.5.0",
            "_view_name": "HBoxView",
            "box_style": "",
            "children": [
              "IPY_MODEL_d8546696a25546809cad8b64a2cad42d",
              "IPY_MODEL_db778cd8d9584b1b96cb1a8f95dd3ab2"
            ],
            "layout": "IPY_MODEL_a072315b4acd44e589a8de99909d9a12"
          }
        },
        "6e97b2410621454ca392f2755318ea24": {
          "model_module": "@jupyter-widgets/output",
          "model_name": "OutputModel",
          "model_module_version": "1.0.0",
          "state": {
            "_dom_classes": [],
            "_model_module": "@jupyter-widgets/output",
            "_model_module_version": "1.0.0",
            "_model_name": "OutputModel",
            "_view_count": null,
            "_view_module": "@jupyter-widgets/output",
            "_view_module_version": "1.0.0",
            "_view_name": "OutputView",
            "layout": "IPY_MODEL_3e7b93dcfc014d7e897119d11de6b68e",
            "msg_id": "",
            "outputs": []
          }
        },
        "480b8809197c4bec995581d73a91acf7": {
          "model_module": "@jupyter-widgets/base",
          "model_name": "LayoutModel",
          "model_module_version": "1.2.0",
          "state": {
            "_model_module": "@jupyter-widgets/base",
            "_model_module_version": "1.2.0",
            "_model_name": "LayoutModel",
            "_view_count": null,
            "_view_module": "@jupyter-widgets/base",
            "_view_module_version": "1.2.0",
            "_view_name": "LayoutView",
            "align_content": null,
            "align_items": null,
            "align_self": null,
            "border": null,
            "bottom": null,
            "display": null,
            "flex": null,
            "flex_flow": null,
            "grid_area": null,
            "grid_auto_columns": null,
            "grid_auto_flow": null,
            "grid_auto_rows": null,
            "grid_column": null,
            "grid_gap": null,
            "grid_row": null,
            "grid_template_areas": null,
            "grid_template_columns": null,
            "grid_template_rows": null,
            "height": null,
            "justify_content": null,
            "justify_items": null,
            "left": null,
            "margin": null,
            "max_height": null,
            "max_width": null,
            "min_height": null,
            "min_width": null,
            "object_fit": null,
            "object_position": null,
            "order": null,
            "overflow": null,
            "overflow_x": null,
            "overflow_y": null,
            "padding": null,
            "right": null,
            "top": null,
            "visibility": null,
            "width": null
          }
        },
        "d8a3ae2012af4f05b1f6f683ecf3de80": {
          "model_module": "@jupyter-widgets/base",
          "model_name": "LayoutModel",
          "model_module_version": "1.2.0",
          "state": {
            "_model_module": "@jupyter-widgets/base",
            "_model_module_version": "1.2.0",
            "_model_name": "LayoutModel",
            "_view_count": null,
            "_view_module": "@jupyter-widgets/base",
            "_view_module_version": "1.2.0",
            "_view_name": "LayoutView",
            "align_content": null,
            "align_items": null,
            "align_self": null,
            "border": null,
            "bottom": null,
            "display": null,
            "flex": null,
            "flex_flow": null,
            "grid_area": null,
            "grid_auto_columns": null,
            "grid_auto_flow": null,
            "grid_auto_rows": null,
            "grid_column": null,
            "grid_gap": null,
            "grid_row": null,
            "grid_template_areas": null,
            "grid_template_columns": null,
            "grid_template_rows": null,
            "height": null,
            "justify_content": null,
            "justify_items": null,
            "left": null,
            "margin": null,
            "max_height": null,
            "max_width": null,
            "min_height": null,
            "min_width": null,
            "object_fit": null,
            "object_position": null,
            "order": null,
            "overflow": null,
            "overflow_x": null,
            "overflow_y": null,
            "padding": null,
            "right": null,
            "top": null,
            "visibility": null,
            "width": null
          }
        },
        "fee48197d828401bb193fe5e4a55fc79": {
          "model_module": "@jupyter-widgets/controls",
          "model_name": "DescriptionStyleModel",
          "model_module_version": "1.5.0",
          "state": {
            "_model_module": "@jupyter-widgets/controls",
            "_model_module_version": "1.5.0",
            "_model_name": "DescriptionStyleModel",
            "_view_count": null,
            "_view_module": "@jupyter-widgets/base",
            "_view_module_version": "1.2.0",
            "_view_name": "StyleView",
            "description_width": ""
          }
        },
        "d8546696a25546809cad8b64a2cad42d": {
          "model_module": "@jupyter-widgets/controls",
          "model_name": "DropdownModel",
          "model_module_version": "1.5.0",
          "state": {
            "_dom_classes": [],
            "_model_module": "@jupyter-widgets/controls",
            "_model_module_version": "1.5.0",
            "_model_name": "DropdownModel",
            "_options_labels": [
              "PassengerId",
              "Survived",
              "Pclass",
              "Name",
              "Sex",
              "Age",
              "SibSp",
              "Parch",
              "Ticket",
              "Fare",
              "Cabin",
              "Embarked"
            ],
            "_view_count": null,
            "_view_module": "@jupyter-widgets/controls",
            "_view_module_version": "1.5.0",
            "_view_name": "DropdownView",
            "description": "Column x - ",
            "description_tooltip": null,
            "disabled": false,
            "index": 11,
            "layout": "IPY_MODEL_32da380bb471401eb0cb39eff0b907d3",
            "style": "IPY_MODEL_5b08b0a921794bae9af1f9e67e6367d6"
          }
        },
        "db778cd8d9584b1b96cb1a8f95dd3ab2": {
          "model_module": "@jupyter-widgets/controls",
          "model_name": "DropdownModel",
          "model_module_version": "1.5.0",
          "state": {
            "_dom_classes": [],
            "_model_module": "@jupyter-widgets/controls",
            "_model_module_version": "1.5.0",
            "_model_name": "DropdownModel",
            "_options_labels": [
              "PassengerId",
              "Survived",
              "Pclass",
              "Name",
              "Sex",
              "Age",
              "SibSp",
              "Parch",
              "Ticket",
              "Fare",
              "Cabin",
              "Embarked"
            ],
            "_view_count": null,
            "_view_module": "@jupyter-widgets/controls",
            "_view_module_version": "1.5.0",
            "_view_name": "DropdownView",
            "description": "Column y - ",
            "description_tooltip": null,
            "disabled": false,
            "index": 9,
            "layout": "IPY_MODEL_03805a91c96545b8999fe4d342a44d8a",
            "style": "IPY_MODEL_d524e4d1ccfa44cfa5545054b92bed96"
          }
        },
        "a072315b4acd44e589a8de99909d9a12": {
          "model_module": "@jupyter-widgets/base",
          "model_name": "LayoutModel",
          "model_module_version": "1.2.0",
          "state": {
            "_model_module": "@jupyter-widgets/base",
            "_model_module_version": "1.2.0",
            "_model_name": "LayoutModel",
            "_view_count": null,
            "_view_module": "@jupyter-widgets/base",
            "_view_module_version": "1.2.0",
            "_view_name": "LayoutView",
            "align_content": null,
            "align_items": null,
            "align_self": null,
            "border": null,
            "bottom": null,
            "display": null,
            "flex": null,
            "flex_flow": null,
            "grid_area": null,
            "grid_auto_columns": null,
            "grid_auto_flow": null,
            "grid_auto_rows": null,
            "grid_column": null,
            "grid_gap": null,
            "grid_row": null,
            "grid_template_areas": null,
            "grid_template_columns": null,
            "grid_template_rows": null,
            "height": null,
            "justify_content": null,
            "justify_items": null,
            "left": null,
            "margin": null,
            "max_height": null,
            "max_width": null,
            "min_height": null,
            "min_width": null,
            "object_fit": null,
            "object_position": null,
            "order": null,
            "overflow": null,
            "overflow_x": null,
            "overflow_y": null,
            "padding": null,
            "right": null,
            "top": null,
            "visibility": null,
            "width": null
          }
        },
        "32da380bb471401eb0cb39eff0b907d3": {
          "model_module": "@jupyter-widgets/base",
          "model_name": "LayoutModel",
          "model_module_version": "1.2.0",
          "state": {
            "_model_module": "@jupyter-widgets/base",
            "_model_module_version": "1.2.0",
            "_model_name": "LayoutModel",
            "_view_count": null,
            "_view_module": "@jupyter-widgets/base",
            "_view_module_version": "1.2.0",
            "_view_name": "LayoutView",
            "align_content": null,
            "align_items": null,
            "align_self": null,
            "border": null,
            "bottom": null,
            "display": null,
            "flex": null,
            "flex_flow": null,
            "grid_area": null,
            "grid_auto_columns": null,
            "grid_auto_flow": null,
            "grid_auto_rows": null,
            "grid_column": null,
            "grid_gap": null,
            "grid_row": null,
            "grid_template_areas": null,
            "grid_template_columns": null,
            "grid_template_rows": null,
            "height": null,
            "justify_content": null,
            "justify_items": null,
            "left": null,
            "margin": null,
            "max_height": null,
            "max_width": null,
            "min_height": null,
            "min_width": null,
            "object_fit": null,
            "object_position": null,
            "order": null,
            "overflow": null,
            "overflow_x": null,
            "overflow_y": null,
            "padding": null,
            "right": null,
            "top": null,
            "visibility": null,
            "width": null
          }
        },
        "5b08b0a921794bae9af1f9e67e6367d6": {
          "model_module": "@jupyter-widgets/controls",
          "model_name": "DescriptionStyleModel",
          "model_module_version": "1.5.0",
          "state": {
            "_model_module": "@jupyter-widgets/controls",
            "_model_module_version": "1.5.0",
            "_model_name": "DescriptionStyleModel",
            "_view_count": null,
            "_view_module": "@jupyter-widgets/base",
            "_view_module_version": "1.2.0",
            "_view_name": "StyleView",
            "description_width": ""
          }
        },
        "03805a91c96545b8999fe4d342a44d8a": {
          "model_module": "@jupyter-widgets/base",
          "model_name": "LayoutModel",
          "model_module_version": "1.2.0",
          "state": {
            "_model_module": "@jupyter-widgets/base",
            "_model_module_version": "1.2.0",
            "_model_name": "LayoutModel",
            "_view_count": null,
            "_view_module": "@jupyter-widgets/base",
            "_view_module_version": "1.2.0",
            "_view_name": "LayoutView",
            "align_content": null,
            "align_items": null,
            "align_self": null,
            "border": null,
            "bottom": null,
            "display": null,
            "flex": null,
            "flex_flow": null,
            "grid_area": null,
            "grid_auto_columns": null,
            "grid_auto_flow": null,
            "grid_auto_rows": null,
            "grid_column": null,
            "grid_gap": null,
            "grid_row": null,
            "grid_template_areas": null,
            "grid_template_columns": null,
            "grid_template_rows": null,
            "height": null,
            "justify_content": null,
            "justify_items": null,
            "left": null,
            "margin": null,
            "max_height": null,
            "max_width": null,
            "min_height": null,
            "min_width": null,
            "object_fit": null,
            "object_position": null,
            "order": null,
            "overflow": null,
            "overflow_x": null,
            "overflow_y": null,
            "padding": null,
            "right": null,
            "top": null,
            "visibility": null,
            "width": null
          }
        },
        "d524e4d1ccfa44cfa5545054b92bed96": {
          "model_module": "@jupyter-widgets/controls",
          "model_name": "DescriptionStyleModel",
          "model_module_version": "1.5.0",
          "state": {
            "_model_module": "@jupyter-widgets/controls",
            "_model_module_version": "1.5.0",
            "_model_name": "DescriptionStyleModel",
            "_view_count": null,
            "_view_module": "@jupyter-widgets/base",
            "_view_module_version": "1.2.0",
            "_view_name": "StyleView",
            "description_width": ""
          }
        },
        "72be2325f9604ff181f40ea0d16557d4": {
          "model_module": "@jupyter-widgets/base",
          "model_name": "LayoutModel",
          "model_module_version": "1.2.0",
          "state": {
            "_model_module": "@jupyter-widgets/base",
            "_model_module_version": "1.2.0",
            "_model_name": "LayoutModel",
            "_view_count": null,
            "_view_module": "@jupyter-widgets/base",
            "_view_module_version": "1.2.0",
            "_view_name": "LayoutView",
            "align_content": null,
            "align_items": null,
            "align_self": null,
            "border": null,
            "bottom": null,
            "display": null,
            "flex": null,
            "flex_flow": null,
            "grid_area": null,
            "grid_auto_columns": null,
            "grid_auto_flow": null,
            "grid_auto_rows": null,
            "grid_column": null,
            "grid_gap": null,
            "grid_row": null,
            "grid_template_areas": null,
            "grid_template_columns": null,
            "grid_template_rows": null,
            "height": null,
            "justify_content": null,
            "justify_items": null,
            "left": null,
            "margin": null,
            "max_height": null,
            "max_width": null,
            "min_height": null,
            "min_width": null,
            "object_fit": null,
            "object_position": null,
            "order": null,
            "overflow": null,
            "overflow_x": null,
            "overflow_y": null,
            "padding": null,
            "right": null,
            "top": null,
            "visibility": null,
            "width": null
          }
        },
        "b37aa80d40194c318d8e9a1810520bd8": {
          "model_module": "@jupyter-widgets/base",
          "model_name": "LayoutModel",
          "model_module_version": "1.2.0",
          "state": {
            "_model_module": "@jupyter-widgets/base",
            "_model_module_version": "1.2.0",
            "_model_name": "LayoutModel",
            "_view_count": null,
            "_view_module": "@jupyter-widgets/base",
            "_view_module_version": "1.2.0",
            "_view_name": "LayoutView",
            "align_content": null,
            "align_items": null,
            "align_self": null,
            "border": null,
            "bottom": null,
            "display": null,
            "flex": null,
            "flex_flow": null,
            "grid_area": null,
            "grid_auto_columns": null,
            "grid_auto_flow": null,
            "grid_auto_rows": null,
            "grid_column": null,
            "grid_gap": null,
            "grid_row": null,
            "grid_template_areas": null,
            "grid_template_columns": null,
            "grid_template_rows": null,
            "height": null,
            "justify_content": null,
            "justify_items": null,
            "left": null,
            "margin": null,
            "max_height": null,
            "max_width": null,
            "min_height": null,
            "min_width": null,
            "object_fit": null,
            "object_position": null,
            "order": null,
            "overflow": null,
            "overflow_x": null,
            "overflow_y": null,
            "padding": null,
            "right": null,
            "top": null,
            "visibility": null,
            "width": null
          }
        },
        "4f62a6ad81694db085ba596b72d5481b": {
          "model_module": "@jupyter-widgets/base",
          "model_name": "LayoutModel",
          "model_module_version": "1.2.0",
          "state": {
            "_model_module": "@jupyter-widgets/base",
            "_model_module_version": "1.2.0",
            "_model_name": "LayoutModel",
            "_view_count": null,
            "_view_module": "@jupyter-widgets/base",
            "_view_module_version": "1.2.0",
            "_view_name": "LayoutView",
            "align_content": null,
            "align_items": null,
            "align_self": null,
            "border": null,
            "bottom": null,
            "display": null,
            "flex": null,
            "flex_flow": null,
            "grid_area": null,
            "grid_auto_columns": null,
            "grid_auto_flow": null,
            "grid_auto_rows": null,
            "grid_column": null,
            "grid_gap": null,
            "grid_row": null,
            "grid_template_areas": null,
            "grid_template_columns": null,
            "grid_template_rows": null,
            "height": null,
            "justify_content": null,
            "justify_items": null,
            "left": null,
            "margin": null,
            "max_height": null,
            "max_width": null,
            "min_height": null,
            "min_width": null,
            "object_fit": null,
            "object_position": null,
            "order": null,
            "overflow": null,
            "overflow_x": null,
            "overflow_y": null,
            "padding": null,
            "right": null,
            "top": null,
            "visibility": null,
            "width": null
          }
        },
        "3e7b93dcfc014d7e897119d11de6b68e": {
          "model_module": "@jupyter-widgets/base",
          "model_name": "LayoutModel",
          "model_module_version": "1.2.0",
          "state": {
            "_model_module": "@jupyter-widgets/base",
            "_model_module_version": "1.2.0",
            "_model_name": "LayoutModel",
            "_view_count": null,
            "_view_module": "@jupyter-widgets/base",
            "_view_module_version": "1.2.0",
            "_view_name": "LayoutView",
            "align_content": null,
            "align_items": null,
            "align_self": null,
            "border": null,
            "bottom": null,
            "display": null,
            "flex": null,
            "flex_flow": null,
            "grid_area": null,
            "grid_auto_columns": null,
            "grid_auto_flow": null,
            "grid_auto_rows": null,
            "grid_column": null,
            "grid_gap": null,
            "grid_row": null,
            "grid_template_areas": null,
            "grid_template_columns": null,
            "grid_template_rows": null,
            "height": null,
            "justify_content": null,
            "justify_items": null,
            "left": null,
            "margin": null,
            "max_height": null,
            "max_width": null,
            "min_height": null,
            "min_width": null,
            "object_fit": null,
            "object_position": null,
            "order": null,
            "overflow": null,
            "overflow_x": null,
            "overflow_y": null,
            "padding": null,
            "right": null,
            "top": null,
            "visibility": null,
            "width": null
          }
        }
      }
    }
  },
  "cells": [
    {
      "cell_type": "markdown",
      "metadata": {
        "id": "view-in-github",
        "colab_type": "text"
      },
      "source": [
        "<a href=\"https://colab.research.google.com/github/divaDseidnA/HeriotWatt-MechEngStudies/blob/master/jupyter_widgets.ipynb\" target=\"_parent\"><img src=\"https://colab.research.google.com/assets/colab-badge.svg\" alt=\"Open In Colab\"/></a>"
      ]
    },
    {
      "cell_type": "markdown",
      "metadata": {
        "id": "Wu-wB4TI7AHz"
      },
      "source": [
        "## Getting started"
      ]
    },
    {
      "cell_type": "code",
      "metadata": {
        "id": "I8RafYz-6-zS",
        "outputId": "9e827ca4-ea96-4d51-cedf-3ed054d84f33",
        "colab": {
          "base_uri": "https://localhost:8080/"
        }
      },
      "source": [
        "!pip install ipywidgets \n",
        "# To enable `ipywidgets`\n",
        "!jupyter nbextension enable --py widgetsnbextension"
      ],
      "execution_count": 2,
      "outputs": [
        {
          "output_type": "stream",
          "name": "stdout",
          "text": [
            "Requirement already satisfied: ipywidgets in /usr/local/lib/python3.7/dist-packages (7.6.5)\n",
            "Requirement already satisfied: jupyterlab-widgets>=1.0.0 in /usr/local/lib/python3.7/dist-packages (from ipywidgets) (1.0.2)\n",
            "Requirement already satisfied: ipython-genutils~=0.2.0 in /usr/local/lib/python3.7/dist-packages (from ipywidgets) (0.2.0)\n",
            "Requirement already satisfied: traitlets>=4.3.1 in /usr/local/lib/python3.7/dist-packages (from ipywidgets) (5.1.1)\n",
            "Requirement already satisfied: ipykernel>=4.5.1 in /usr/local/lib/python3.7/dist-packages (from ipywidgets) (4.10.1)\n",
            "Requirement already satisfied: ipython>=4.0.0 in /usr/local/lib/python3.7/dist-packages (from ipywidgets) (5.5.0)\n",
            "Requirement already satisfied: nbformat>=4.2.0 in /usr/local/lib/python3.7/dist-packages (from ipywidgets) (5.1.3)\n",
            "Requirement already satisfied: widgetsnbextension~=3.5.0 in /usr/local/lib/python3.7/dist-packages (from ipywidgets) (3.5.2)\n",
            "Requirement already satisfied: jupyter-client in /usr/local/lib/python3.7/dist-packages (from ipykernel>=4.5.1->ipywidgets) (5.3.5)\n",
            "Requirement already satisfied: tornado>=4.0 in /usr/local/lib/python3.7/dist-packages (from ipykernel>=4.5.1->ipywidgets) (5.1.1)\n",
            "Requirement already satisfied: decorator in /usr/local/lib/python3.7/dist-packages (from ipython>=4.0.0->ipywidgets) (4.4.2)\n",
            "Requirement already satisfied: simplegeneric>0.8 in /usr/local/lib/python3.7/dist-packages (from ipython>=4.0.0->ipywidgets) (0.8.1)\n",
            "Requirement already satisfied: pexpect in /usr/local/lib/python3.7/dist-packages (from ipython>=4.0.0->ipywidgets) (4.8.0)\n",
            "Requirement already satisfied: prompt-toolkit<2.0.0,>=1.0.4 in /usr/local/lib/python3.7/dist-packages (from ipython>=4.0.0->ipywidgets) (1.0.18)\n",
            "Requirement already satisfied: pickleshare in /usr/local/lib/python3.7/dist-packages (from ipython>=4.0.0->ipywidgets) (0.7.5)\n",
            "Requirement already satisfied: pygments in /usr/local/lib/python3.7/dist-packages (from ipython>=4.0.0->ipywidgets) (2.6.1)\n",
            "Requirement already satisfied: setuptools>=18.5 in /usr/local/lib/python3.7/dist-packages (from ipython>=4.0.0->ipywidgets) (57.4.0)\n",
            "Requirement already satisfied: jsonschema!=2.5.0,>=2.4 in /usr/local/lib/python3.7/dist-packages (from nbformat>=4.2.0->ipywidgets) (4.3.3)\n",
            "Requirement already satisfied: jupyter-core in /usr/local/lib/python3.7/dist-packages (from nbformat>=4.2.0->ipywidgets) (4.9.2)\n",
            "Requirement already satisfied: importlib-metadata in /usr/local/lib/python3.7/dist-packages (from jsonschema!=2.5.0,>=2.4->nbformat>=4.2.0->ipywidgets) (4.11.2)\n",
            "Requirement already satisfied: pyrsistent!=0.17.0,!=0.17.1,!=0.17.2,>=0.14.0 in /usr/local/lib/python3.7/dist-packages (from jsonschema!=2.5.0,>=2.4->nbformat>=4.2.0->ipywidgets) (0.18.1)\n",
            "Requirement already satisfied: attrs>=17.4.0 in /usr/local/lib/python3.7/dist-packages (from jsonschema!=2.5.0,>=2.4->nbformat>=4.2.0->ipywidgets) (21.4.0)\n",
            "Requirement already satisfied: importlib-resources>=1.4.0 in /usr/local/lib/python3.7/dist-packages (from jsonschema!=2.5.0,>=2.4->nbformat>=4.2.0->ipywidgets) (5.4.0)\n",
            "Requirement already satisfied: typing-extensions in /usr/local/lib/python3.7/dist-packages (from jsonschema!=2.5.0,>=2.4->nbformat>=4.2.0->ipywidgets) (3.10.0.2)\n",
            "Requirement already satisfied: zipp>=3.1.0 in /usr/local/lib/python3.7/dist-packages (from importlib-resources>=1.4.0->jsonschema!=2.5.0,>=2.4->nbformat>=4.2.0->ipywidgets) (3.7.0)\n",
            "Requirement already satisfied: six>=1.9.0 in /usr/local/lib/python3.7/dist-packages (from prompt-toolkit<2.0.0,>=1.0.4->ipython>=4.0.0->ipywidgets) (1.15.0)\n",
            "Requirement already satisfied: wcwidth in /usr/local/lib/python3.7/dist-packages (from prompt-toolkit<2.0.0,>=1.0.4->ipython>=4.0.0->ipywidgets) (0.2.5)\n",
            "Requirement already satisfied: notebook>=4.4.1 in /usr/local/lib/python3.7/dist-packages (from widgetsnbextension~=3.5.0->ipywidgets) (5.3.1)\n",
            "Requirement already satisfied: Send2Trash in /usr/local/lib/python3.7/dist-packages (from notebook>=4.4.1->widgetsnbextension~=3.5.0->ipywidgets) (1.8.0)\n",
            "Requirement already satisfied: jinja2 in /usr/local/lib/python3.7/dist-packages (from notebook>=4.4.1->widgetsnbextension~=3.5.0->ipywidgets) (2.11.3)\n",
            "Requirement already satisfied: nbconvert in /usr/local/lib/python3.7/dist-packages (from notebook>=4.4.1->widgetsnbextension~=3.5.0->ipywidgets) (5.6.1)\n",
            "Requirement already satisfied: terminado>=0.8.1 in /usr/local/lib/python3.7/dist-packages (from notebook>=4.4.1->widgetsnbextension~=3.5.0->ipywidgets) (0.13.3)\n",
            "Requirement already satisfied: python-dateutil>=2.1 in /usr/local/lib/python3.7/dist-packages (from jupyter-client->ipykernel>=4.5.1->ipywidgets) (2.8.2)\n",
            "Requirement already satisfied: pyzmq>=13 in /usr/local/lib/python3.7/dist-packages (from jupyter-client->ipykernel>=4.5.1->ipywidgets) (22.3.0)\n",
            "Requirement already satisfied: ptyprocess in /usr/local/lib/python3.7/dist-packages (from terminado>=0.8.1->notebook>=4.4.1->widgetsnbextension~=3.5.0->ipywidgets) (0.7.0)\n",
            "Requirement already satisfied: MarkupSafe>=0.23 in /usr/local/lib/python3.7/dist-packages (from jinja2->notebook>=4.4.1->widgetsnbextension~=3.5.0->ipywidgets) (2.0.1)\n",
            "Requirement already satisfied: mistune<2,>=0.8.1 in /usr/local/lib/python3.7/dist-packages (from nbconvert->notebook>=4.4.1->widgetsnbextension~=3.5.0->ipywidgets) (0.8.4)\n",
            "Requirement already satisfied: entrypoints>=0.2.2 in /usr/local/lib/python3.7/dist-packages (from nbconvert->notebook>=4.4.1->widgetsnbextension~=3.5.0->ipywidgets) (0.4)\n",
            "Requirement already satisfied: testpath in /usr/local/lib/python3.7/dist-packages (from nbconvert->notebook>=4.4.1->widgetsnbextension~=3.5.0->ipywidgets) (0.6.0)\n",
            "Requirement already satisfied: bleach in /usr/local/lib/python3.7/dist-packages (from nbconvert->notebook>=4.4.1->widgetsnbextension~=3.5.0->ipywidgets) (4.1.0)\n",
            "Requirement already satisfied: defusedxml in /usr/local/lib/python3.7/dist-packages (from nbconvert->notebook>=4.4.1->widgetsnbextension~=3.5.0->ipywidgets) (0.7.1)\n",
            "Requirement already satisfied: pandocfilters>=1.4.1 in /usr/local/lib/python3.7/dist-packages (from nbconvert->notebook>=4.4.1->widgetsnbextension~=3.5.0->ipywidgets) (1.5.0)\n",
            "Requirement already satisfied: packaging in /usr/local/lib/python3.7/dist-packages (from bleach->nbconvert->notebook>=4.4.1->widgetsnbextension~=3.5.0->ipywidgets) (21.3)\n",
            "Requirement already satisfied: webencodings in /usr/local/lib/python3.7/dist-packages (from bleach->nbconvert->notebook>=4.4.1->widgetsnbextension~=3.5.0->ipywidgets) (0.5.1)\n",
            "Requirement already satisfied: pyparsing!=3.0.5,>=2.0.2 in /usr/local/lib/python3.7/dist-packages (from packaging->bleach->nbconvert->notebook>=4.4.1->widgetsnbextension~=3.5.0->ipywidgets) (3.0.7)\n",
            "Enabling notebook extension jupyter-js-widgets/extension...\n",
            "Paths used for configuration of notebook: \n",
            "    \t/root/.jupyter/nbconfig/notebook.json\n",
            "      - Validating: \u001b[32mOK\u001b[0m\n",
            "Paths used for configuration of notebook: \n",
            "    \t/root/.jupyter/nbconfig/notebook.json\n"
          ]
        }
      ]
    },
    {
      "cell_type": "code",
      "metadata": {
        "id": "UfOucuOo8-Cl"
      },
      "source": [
        "import pandas as pd\n",
        "from ipywidgets import widgets\n",
        "from IPython.display import display"
      ],
      "execution_count": 3,
      "outputs": []
    },
    {
      "cell_type": "code",
      "metadata": {
        "id": "iAhO2XGd-SOE"
      },
      "source": [
        ""
      ],
      "execution_count": 3,
      "outputs": []
    },
    {
      "cell_type": "markdown",
      "metadata": {
        "id": "yMR8Xg_y7Ln3"
      },
      "source": [
        "##Sliders"
      ]
    },
    {
      "cell_type": "code",
      "metadata": {
        "colab": {
          "base_uri": "https://localhost:8080/",
          "height": 49,
          "referenced_widgets": [
            "ad9678c0bd9e47b9a2889b0f934ff603",
            "a69fbb3999114ccb9c386727c9f09cc9",
            "4266a23582914ace93156c32bd4390e2"
          ]
        },
        "id": "-nNeqS_m7TUH",
        "outputId": "c470982b-320c-4109-ce46-8a4b5c919438"
      },
      "source": [
        "from IPython.display import display\n",
        "slider = widgets.IntSlider()\n",
        "display(slider)"
      ],
      "execution_count": 4,
      "outputs": [
        {
          "output_type": "display_data",
          "data": {
            "text/plain": [
              "IntSlider(value=0)"
            ],
            "application/vnd.jupyter.widget-view+json": {
              "version_major": 2,
              "version_minor": 0,
              "model_id": "ad9678c0bd9e47b9a2889b0f934ff603"
            }
          },
          "metadata": {}
        }
      ]
    },
    {
      "cell_type": "markdown",
      "metadata": {
        "id": "nxgTSI6p7WZE"
      },
      "source": [
        "##Button"
      ]
    },
    {
      "cell_type": "code",
      "metadata": {
        "colab": {
          "base_uri": "https://localhost:8080/",
          "height": 101,
          "referenced_widgets": [
            "26a14f27fe0f4006a72896d421f5f492",
            "e4449a0ee6114daab5e5aa1ce09eeb01",
            "8c928d52fb65491cadb497e779dbbcba"
          ]
        },
        "id": "I4xF_BEp-SLV",
        "outputId": "5f6b3da1-6135-4cfa-9b25-ccd3398a2166"
      },
      "source": [
        "btn = widgets.Button(description='Widget')\n",
        "def button_eventhandler(obj):\n",
        "    print('Hello from the {} button!'.format(obj.description))\n",
        "btn.on_click(button_eventhandler)\n",
        "display(btn)"
      ],
      "execution_count": 5,
      "outputs": [
        {
          "output_type": "display_data",
          "data": {
            "text/plain": [
              "Button(description='Widget', style=ButtonStyle())"
            ],
            "application/vnd.jupyter.widget-view+json": {
              "version_major": 2,
              "version_minor": 0,
              "model_id": "26a14f27fe0f4006a72896d421f5f492"
            }
          },
          "metadata": {}
        },
        {
          "output_type": "stream",
          "name": "stdout",
          "text": [
            "Hello from the Widget button!\n",
            "Hello from the Widget button!\n",
            "Hello from the Widget button!\n"
          ]
        }
      ]
    },
    {
      "cell_type": "code",
      "metadata": {
        "id": "NfYaiExW9RGj"
      },
      "source": [
        ""
      ],
      "execution_count": null,
      "outputs": []
    },
    {
      "cell_type": "markdown",
      "metadata": {
        "id": "R7I12SZn7jx_"
      },
      "source": [
        "##Dropdown "
      ]
    },
    {
      "cell_type": "code",
      "metadata": {
        "id": "-POg0p0eUlR5"
      },
      "source": [
        "import pandas as pd\n",
        "url=\"https://raw.githubusercontent.com/datasciencedojo/datasets/master/titanic.csv\"\n",
        "df = pd.read_csv(url)"
      ],
      "execution_count": 6,
      "outputs": []
    },
    {
      "cell_type": "code",
      "metadata": {
        "colab": {
          "base_uri": "https://localhost:8080/",
          "height": 206
        },
        "id": "vAGwuE61mnfq",
        "outputId": "01dd9c4a-f75a-4a0a-b404-fc5f29874016"
      },
      "source": [
        "df.head()"
      ],
      "execution_count": 7,
      "outputs": [
        {
          "output_type": "execute_result",
          "data": {
            "text/plain": [
              "   PassengerId  Survived  Pclass  \\\n",
              "0            1         0       3   \n",
              "1            2         1       1   \n",
              "2            3         1       3   \n",
              "3            4         1       1   \n",
              "4            5         0       3   \n",
              "\n",
              "                                                Name     Sex   Age  SibSp  \\\n",
              "0                            Braund, Mr. Owen Harris    male  22.0      1   \n",
              "1  Cumings, Mrs. John Bradley (Florence Briggs Th...  female  38.0      1   \n",
              "2                             Heikkinen, Miss. Laina  female  26.0      0   \n",
              "3       Futrelle, Mrs. Jacques Heath (Lily May Peel)  female  35.0      1   \n",
              "4                           Allen, Mr. William Henry    male  35.0      0   \n",
              "\n",
              "   Parch            Ticket     Fare Cabin Embarked  \n",
              "0      0         A/5 21171   7.2500   NaN        S  \n",
              "1      0          PC 17599  71.2833   C85        C  \n",
              "2      0  STON/O2. 3101282   7.9250   NaN        S  \n",
              "3      0            113803  53.1000  C123        S  \n",
              "4      0            373450   8.0500   NaN        S  "
            ],
            "text/html": [
              "\n",
              "  <div id=\"df-79713cc0-249d-43e5-bbc6-6fef4441ac22\">\n",
              "    <div class=\"colab-df-container\">\n",
              "      <div>\n",
              "<style scoped>\n",
              "    .dataframe tbody tr th:only-of-type {\n",
              "        vertical-align: middle;\n",
              "    }\n",
              "\n",
              "    .dataframe tbody tr th {\n",
              "        vertical-align: top;\n",
              "    }\n",
              "\n",
              "    .dataframe thead th {\n",
              "        text-align: right;\n",
              "    }\n",
              "</style>\n",
              "<table border=\"1\" class=\"dataframe\">\n",
              "  <thead>\n",
              "    <tr style=\"text-align: right;\">\n",
              "      <th></th>\n",
              "      <th>PassengerId</th>\n",
              "      <th>Survived</th>\n",
              "      <th>Pclass</th>\n",
              "      <th>Name</th>\n",
              "      <th>Sex</th>\n",
              "      <th>Age</th>\n",
              "      <th>SibSp</th>\n",
              "      <th>Parch</th>\n",
              "      <th>Ticket</th>\n",
              "      <th>Fare</th>\n",
              "      <th>Cabin</th>\n",
              "      <th>Embarked</th>\n",
              "    </tr>\n",
              "  </thead>\n",
              "  <tbody>\n",
              "    <tr>\n",
              "      <th>0</th>\n",
              "      <td>1</td>\n",
              "      <td>0</td>\n",
              "      <td>3</td>\n",
              "      <td>Braund, Mr. Owen Harris</td>\n",
              "      <td>male</td>\n",
              "      <td>22.0</td>\n",
              "      <td>1</td>\n",
              "      <td>0</td>\n",
              "      <td>A/5 21171</td>\n",
              "      <td>7.2500</td>\n",
              "      <td>NaN</td>\n",
              "      <td>S</td>\n",
              "    </tr>\n",
              "    <tr>\n",
              "      <th>1</th>\n",
              "      <td>2</td>\n",
              "      <td>1</td>\n",
              "      <td>1</td>\n",
              "      <td>Cumings, Mrs. John Bradley (Florence Briggs Th...</td>\n",
              "      <td>female</td>\n",
              "      <td>38.0</td>\n",
              "      <td>1</td>\n",
              "      <td>0</td>\n",
              "      <td>PC 17599</td>\n",
              "      <td>71.2833</td>\n",
              "      <td>C85</td>\n",
              "      <td>C</td>\n",
              "    </tr>\n",
              "    <tr>\n",
              "      <th>2</th>\n",
              "      <td>3</td>\n",
              "      <td>1</td>\n",
              "      <td>3</td>\n",
              "      <td>Heikkinen, Miss. Laina</td>\n",
              "      <td>female</td>\n",
              "      <td>26.0</td>\n",
              "      <td>0</td>\n",
              "      <td>0</td>\n",
              "      <td>STON/O2. 3101282</td>\n",
              "      <td>7.9250</td>\n",
              "      <td>NaN</td>\n",
              "      <td>S</td>\n",
              "    </tr>\n",
              "    <tr>\n",
              "      <th>3</th>\n",
              "      <td>4</td>\n",
              "      <td>1</td>\n",
              "      <td>1</td>\n",
              "      <td>Futrelle, Mrs. Jacques Heath (Lily May Peel)</td>\n",
              "      <td>female</td>\n",
              "      <td>35.0</td>\n",
              "      <td>1</td>\n",
              "      <td>0</td>\n",
              "      <td>113803</td>\n",
              "      <td>53.1000</td>\n",
              "      <td>C123</td>\n",
              "      <td>S</td>\n",
              "    </tr>\n",
              "    <tr>\n",
              "      <th>4</th>\n",
              "      <td>5</td>\n",
              "      <td>0</td>\n",
              "      <td>3</td>\n",
              "      <td>Allen, Mr. William Henry</td>\n",
              "      <td>male</td>\n",
              "      <td>35.0</td>\n",
              "      <td>0</td>\n",
              "      <td>0</td>\n",
              "      <td>373450</td>\n",
              "      <td>8.0500</td>\n",
              "      <td>NaN</td>\n",
              "      <td>S</td>\n",
              "    </tr>\n",
              "  </tbody>\n",
              "</table>\n",
              "</div>\n",
              "      <button class=\"colab-df-convert\" onclick=\"convertToInteractive('df-79713cc0-249d-43e5-bbc6-6fef4441ac22')\"\n",
              "              title=\"Convert this dataframe to an interactive table.\"\n",
              "              style=\"display:none;\">\n",
              "        \n",
              "  <svg xmlns=\"http://www.w3.org/2000/svg\" height=\"24px\"viewBox=\"0 0 24 24\"\n",
              "       width=\"24px\">\n",
              "    <path d=\"M0 0h24v24H0V0z\" fill=\"none\"/>\n",
              "    <path d=\"M18.56 5.44l.94 2.06.94-2.06 2.06-.94-2.06-.94-.94-2.06-.94 2.06-2.06.94zm-11 1L8.5 8.5l.94-2.06 2.06-.94-2.06-.94L8.5 2.5l-.94 2.06-2.06.94zm10 10l.94 2.06.94-2.06 2.06-.94-2.06-.94-.94-2.06-.94 2.06-2.06.94z\"/><path d=\"M17.41 7.96l-1.37-1.37c-.4-.4-.92-.59-1.43-.59-.52 0-1.04.2-1.43.59L10.3 9.45l-7.72 7.72c-.78.78-.78 2.05 0 2.83L4 21.41c.39.39.9.59 1.41.59.51 0 1.02-.2 1.41-.59l7.78-7.78 2.81-2.81c.8-.78.8-2.07 0-2.86zM5.41 20L4 18.59l7.72-7.72 1.47 1.35L5.41 20z\"/>\n",
              "  </svg>\n",
              "      </button>\n",
              "      \n",
              "  <style>\n",
              "    .colab-df-container {\n",
              "      display:flex;\n",
              "      flex-wrap:wrap;\n",
              "      gap: 12px;\n",
              "    }\n",
              "\n",
              "    .colab-df-convert {\n",
              "      background-color: #E8F0FE;\n",
              "      border: none;\n",
              "      border-radius: 50%;\n",
              "      cursor: pointer;\n",
              "      display: none;\n",
              "      fill: #1967D2;\n",
              "      height: 32px;\n",
              "      padding: 0 0 0 0;\n",
              "      width: 32px;\n",
              "    }\n",
              "\n",
              "    .colab-df-convert:hover {\n",
              "      background-color: #E2EBFA;\n",
              "      box-shadow: 0px 1px 2px rgba(60, 64, 67, 0.3), 0px 1px 3px 1px rgba(60, 64, 67, 0.15);\n",
              "      fill: #174EA6;\n",
              "    }\n",
              "\n",
              "    [theme=dark] .colab-df-convert {\n",
              "      background-color: #3B4455;\n",
              "      fill: #D2E3FC;\n",
              "    }\n",
              "\n",
              "    [theme=dark] .colab-df-convert:hover {\n",
              "      background-color: #434B5C;\n",
              "      box-shadow: 0px 1px 3px 1px rgba(0, 0, 0, 0.15);\n",
              "      filter: drop-shadow(0px 1px 2px rgba(0, 0, 0, 0.3));\n",
              "      fill: #FFFFFF;\n",
              "    }\n",
              "  </style>\n",
              "\n",
              "      <script>\n",
              "        const buttonEl =\n",
              "          document.querySelector('#df-79713cc0-249d-43e5-bbc6-6fef4441ac22 button.colab-df-convert');\n",
              "        buttonEl.style.display =\n",
              "          google.colab.kernel.accessAllowed ? 'block' : 'none';\n",
              "\n",
              "        async function convertToInteractive(key) {\n",
              "          const element = document.querySelector('#df-79713cc0-249d-43e5-bbc6-6fef4441ac22');\n",
              "          const dataTable =\n",
              "            await google.colab.kernel.invokeFunction('convertToInteractive',\n",
              "                                                     [key], {});\n",
              "          if (!dataTable) return;\n",
              "\n",
              "          const docLinkHtml = 'Like what you see? Visit the ' +\n",
              "            '<a target=\"_blank\" href=https://colab.research.google.com/notebooks/data_table.ipynb>data table notebook</a>'\n",
              "            + ' to learn more about interactive tables.';\n",
              "          element.innerHTML = '';\n",
              "          dataTable['output_type'] = 'display_data';\n",
              "          await google.colab.output.renderOutput(dataTable, element);\n",
              "          const docLink = document.createElement('div');\n",
              "          docLink.innerHTML = docLinkHtml;\n",
              "          element.appendChild(docLink);\n",
              "        }\n",
              "      </script>\n",
              "    </div>\n",
              "  </div>\n",
              "  "
            ]
          },
          "metadata": {},
          "execution_count": 7
        }
      ]
    },
    {
      "cell_type": "code",
      "metadata": {
        "colab": {
          "base_uri": "https://localhost:8080/",
          "height": 238,
          "referenced_widgets": [
            "7c8b3e8c83644214869d8fb2921544cd",
            "07949f26ee644107832ea6296213a177",
            "af6911ec84d743d88e94bdad1490cf13",
            "401e0dad66804f3ca3f0b1bc068e5df2",
            "dce06c7462a34af7b5d5389fafe117e4"
          ]
        },
        "id": "oLzsOmzV7rxb",
        "outputId": "19fe94dd-2a78-4522-fe78-109295ec36e0"
      },
      "source": [
        "dropdown = widgets.Dropdown(options =[\"None\", \"DF head\", \"DF info\"])\n",
        "output = widgets.Output()\n",
        "def select(change):\n",
        "  output.clear_output()\n",
        "  if(change.new == 'None'):\n",
        "    with output:\n",
        "      display(\"Select an option\")\n",
        "  elif(change.new == 'DF head'):\n",
        "    with output:\n",
        "      display(df.head())\n",
        "  elif(change.new == 'DF info'):\n",
        "    with output:\n",
        "      display(df.info())\n",
        "  else:\n",
        "    with output:\n",
        "      display(\"Error: option not found\")\n",
        "  \n",
        "dropdown.observe(select, names=\"value\")\n",
        "display(dropdown)\n",
        "display(output)"
      ],
      "execution_count": 8,
      "outputs": [
        {
          "output_type": "display_data",
          "data": {
            "text/plain": [
              "Dropdown(options=('None', 'DF head', 'DF info'), value='None')"
            ],
            "application/vnd.jupyter.widget-view+json": {
              "version_major": 2,
              "version_minor": 0,
              "model_id": "7c8b3e8c83644214869d8fb2921544cd"
            }
          },
          "metadata": {}
        },
        {
          "output_type": "display_data",
          "data": {
            "text/plain": [
              "Output()"
            ],
            "application/vnd.jupyter.widget-view+json": {
              "version_major": 2,
              "version_minor": 0,
              "model_id": "401e0dad66804f3ca3f0b1bc068e5df2"
            }
          },
          "metadata": {}
        }
      ]
    },
    {
      "cell_type": "markdown",
      "metadata": {
        "id": "PcTVorLd7w8v"
      },
      "source": [
        "##Text field"
      ]
    },
    {
      "cell_type": "code",
      "metadata": {
        "colab": {
          "base_uri": "https://localhost:8080/",
          "height": 67,
          "referenced_widgets": [
            "9e9f0bc7f8d249a5ab68e7856f9901be",
            "9484d48c85e9456aae226345d205bb00",
            "8843a9d3e75346d5b2856189159b8b16",
            "6fad4ec94137406ba2ac0ef230eb3cf7",
            "f2b88e3f2fa04b0fbf994ea8f2561f73"
          ]
        },
        "id": "0E8Ojygc7ruM",
        "outputId": "ba29feb3-de1d-441e-e95b-d93a26cdc35b"
      },
      "source": [
        "text = widgets.Text(description=\"Text - \")\n",
        "out = widgets.Output()\n",
        "def select(change):\n",
        "    out.clear_output()\n",
        "    with out:\n",
        "      display(\"Entered value - \"+change.new)\n",
        "  \n",
        "text.observe(select, names=\"value\")\n",
        "display(text)\n",
        "display(out)"
      ],
      "execution_count": 9,
      "outputs": [
        {
          "output_type": "display_data",
          "data": {
            "text/plain": [
              "Text(value='', description='Text - ')"
            ],
            "application/vnd.jupyter.widget-view+json": {
              "version_major": 2,
              "version_minor": 0,
              "model_id": "9e9f0bc7f8d249a5ab68e7856f9901be"
            }
          },
          "metadata": {}
        },
        {
          "output_type": "display_data",
          "data": {
            "text/plain": [
              "Output()"
            ],
            "application/vnd.jupyter.widget-view+json": {
              "version_major": 2,
              "version_minor": 0,
              "model_id": "6fad4ec94137406ba2ac0ef230eb3cf7"
            }
          },
          "metadata": {}
        }
      ]
    },
    {
      "cell_type": "markdown",
      "metadata": {
        "id": "dZWwOdiC74vU"
      },
      "source": [
        "##HBox and VBox"
      ]
    },
    {
      "cell_type": "code",
      "metadata": {
        "colab": {
          "base_uri": "https://localhost:8080/",
          "height": 49,
          "referenced_widgets": [
            "4885f90589fc466c9b43b1f8d6f02b08",
            "e6df1d0301554045bbfb37f0ed83a706",
            "5696831ecf874f63bda508272636f12f",
            "e2be936209044fa48088d3273ac57357",
            "1016d3a2828e402592ebf8b2f115c8b2",
            "077d770d7a5f455f86a8bcda8028ab02",
            "51d7417ea3314a7499cdc5da7758e02d"
          ]
        },
        "id": "554AYNTW7rrd",
        "outputId": "d442e328-7f89-4bf1-ddb0-1ccbe750688f"
      },
      "source": [
        "texth = widgets.Text(description=\"Text - \")\n",
        "outh = widgets.Output()\n",
        "def select(change):\n",
        "    outh.clear_output()\n",
        "    with outh:\n",
        "      display(\"Entered value - \"+change.new)\n",
        "  \n",
        "texth.observe(select, names=\"value\")\n",
        "\n",
        "hbox = widgets.HBox([texth, outh])\n",
        "display(hbox)"
      ],
      "execution_count": 10,
      "outputs": [
        {
          "output_type": "display_data",
          "data": {
            "text/plain": [
              "HBox(children=(Text(value='', description='Text - '), Output()))"
            ],
            "application/vnd.jupyter.widget-view+json": {
              "version_major": 2,
              "version_minor": 0,
              "model_id": "4885f90589fc466c9b43b1f8d6f02b08"
            }
          },
          "metadata": {}
        }
      ]
    },
    {
      "cell_type": "code",
      "metadata": {
        "colab": {
          "base_uri": "https://localhost:8080/",
          "height": 68,
          "referenced_widgets": [
            "19284b745f734811a962e4d4ef5b4f96",
            "63dcb12389c2493bb3fa014112bc4533",
            "0150a12b539c4e9a9f2a33a9b9e3850d",
            "72c2b32f65d341bc94f9478ae12ece28",
            "56df7ce0ff9845c59c80928e129e76e4",
            "a28060341f3748269900197a4f4508c1",
            "76f942b87c6e48f8875c4819e62bfacd"
          ]
        },
        "id": "rxsgPmnF7roj",
        "outputId": "e1fbcd03-33a3-4810-edfb-97704b153f97"
      },
      "source": [
        "text = widgets.Text(description=\"Text - \")\n",
        "out = widgets.Output()\n",
        "def select(change):\n",
        "    out.clear_output()\n",
        "    with out:\n",
        "      display(\"Entered value - \"+change.new)\n",
        "  \n",
        "text.observe(select, names=\"value\")\n",
        "\n",
        "vbox = widgets.VBox([text, out])\n",
        "display(vbox)"
      ],
      "execution_count": null,
      "outputs": [
        {
          "output_type": "display_data",
          "data": {
            "application/vnd.jupyter.widget-view+json": {
              "model_id": "19284b745f734811a962e4d4ef5b4f96",
              "version_minor": 0,
              "version_major": 2
            },
            "text/plain": [
              "VBox(children=(Text(value='', description='Text - '), Output()))"
            ]
          },
          "metadata": {
            "tags": []
          }
        }
      ]
    },
    {
      "cell_type": "markdown",
      "metadata": {
        "id": "FAd4heug8Z9S"
      },
      "source": [
        "##Dashboard( Mini Panda's profiler)"
      ]
    },
    {
      "cell_type": "code",
      "metadata": {
        "id": "LPqR5zPY-25m"
      },
      "source": [
        "#################-- DataFrame Head --#################\n",
        "output_df_head = widgets.Output()\n",
        "output_df_head.clear_output()\n",
        "with output_df_head:\n",
        "    print(df.head())\n",
        "\n",
        "#################-- DataFrame Info --#################\n",
        "output_df_info = widgets.Output()\n",
        "output_df_info.clear_output()\n",
        "with output_df_info:\n",
        "    print(df.info())\n",
        "\n",
        "#########-- Unique values in chosen column --#########\n",
        "dropdown_columns = widgets.Dropdown(options = df.columns, description = \"Column - \")\n",
        "output_df_unique = widgets.Output()\n",
        "\n",
        "def dropdown_columns_eventhandler(change):\n",
        "  output_df_unique.clear_output()\n",
        "  ot = df[change.new].unique()\n",
        "  with output_df_unique:\n",
        "    display(ot)\n",
        "\n",
        "dropdown_columns.observe(dropdown_columns_eventhandler, names='value')\n",
        "dashboard_unique = widgets.VBox([dropdown_columns, output_df_unique])\n",
        "\n",
        "#########-- Graph b/w two different columns --########\n",
        "output_df_graph = widgets.Output()\n",
        "dropdown_c1 = widgets.Dropdown(options = df.columns, description = \"Column x - \")\n",
        "dropdown_c2 = widgets.Dropdown(options = df.columns, description = \"Column y - \")\n",
        "\n",
        "def common(x='PassengerId', y = 'Pclass'):\n",
        "  output_df_graph.clear_output()\n",
        "  df.plot(x=x, y=y, style='o')\n",
        "  # with output_df_graph:\n",
        "  #   display(gf)\n",
        "\n",
        "def dropdown_c1_eventhandler(change):\n",
        "    common(change.new, dropdown_c2.value)\n",
        "def dropdown_c2_eventhandler(change):\n",
        "    common(dropdown_c1.value, change.new)\n",
        "\n",
        "dropdown_c1.observe(dropdown_c1_eventhandler, names='value')\n",
        "dropdown_c2.observe(dropdown_c2_eventhandler, names='value')\n",
        "columns_hbox = widgets.HBox([dropdown_c1, dropdown_c2])\n",
        "dashboard_graph = widgets.VBox([columns_hbox, output_df_graph])"
      ],
      "execution_count": 11,
      "outputs": []
    },
    {
      "cell_type": "code",
      "metadata": {
        "id": "BoWQ4cOQ---U",
        "colab": {
          "base_uri": "https://localhost:8080/",
          "height": 635,
          "referenced_widgets": [
            "06fd3637045840e087a5674d540614a8",
            "8c6bc8637dcb4b3cb91262dae026cd5b",
            "3e37998d8301479b9bad3fec041b0b0c",
            "fea636f192254c73b0c29969f5d8ef40",
            "b6ae71c20b324675b5e65e6ff71e688e",
            "ef875bc309ca4b4bbdb8040b75350132",
            "1b766097e81a431fbb2c2ab41dbfaa8f",
            "f978f38d43d74c73a82201256f795949",
            "11845c82079e4e7094d497e31580b2f6",
            "72c995f4701a40f5bcdf0a68974423ef",
            "6e97b2410621454ca392f2755318ea24",
            "480b8809197c4bec995581d73a91acf7",
            "d8a3ae2012af4f05b1f6f683ecf3de80",
            "fee48197d828401bb193fe5e4a55fc79",
            "d8546696a25546809cad8b64a2cad42d",
            "db778cd8d9584b1b96cb1a8f95dd3ab2",
            "a072315b4acd44e589a8de99909d9a12",
            "32da380bb471401eb0cb39eff0b907d3",
            "5b08b0a921794bae9af1f9e67e6367d6",
            "03805a91c96545b8999fe4d342a44d8a",
            "d524e4d1ccfa44cfa5545054b92bed96",
            "72be2325f9604ff181f40ea0d16557d4",
            "b37aa80d40194c318d8e9a1810520bd8",
            "4f62a6ad81694db085ba596b72d5481b",
            "3e7b93dcfc014d7e897119d11de6b68e"
          ]
        },
        "outputId": "fdb2e1eb-ee7b-4e46-b5ac-91b25137b6ec"
      },
      "source": [
        "tab = widgets.Tab([output_df_head, output_df_info, dashboard_unique, dashboard_graph])\n",
        "tab.set_title(0, 'DataFram Head')\n",
        "tab.set_title(1, 'DataFram Info')\n",
        "tab.set_title(2, 'Unique values in column')\n",
        "tab.set_title(3, 'Graph: Column vs column')\n",
        "display(tab)"
      ],
      "execution_count": 13,
      "outputs": [
        {
          "output_type": "display_data",
          "data": {
            "text/plain": [
              "Tab(children=(Output(), Output(), VBox(children=(Dropdown(description='Column - ', index=3, options=('Passenge…"
            ],
            "application/vnd.jupyter.widget-view+json": {
              "version_major": 2,
              "version_minor": 0,
              "model_id": "06fd3637045840e087a5674d540614a8"
            }
          },
          "metadata": {}
        },
        {
          "output_type": "display_data",
          "data": {
            "text/plain": [
              "<Figure size 432x288 with 1 Axes>"
            ],
            "image/png": "[encoded data removed]"
          },
          "metadata": {
            "needs_background": "light"
          }
        },
        {
          "output_type": "display_data",
          "data": {
            "text/plain": [
              "<Figure size 432x288 with 1 Axes>"
            ],
            "image/png": "[encoded data removed]"
          },
          "metadata": {
            "needs_background": "light"
          }
        }
      ]
    },
    {
      "cell_type": "code",
      "metadata": {
        "id": "SEeCN1Bzarc9"
      },
      "source": [
        ""
      ],
      "execution_count": null,
      "outputs": []
    },
    {
      "cell_type": "markdown",
      "metadata": {
        "id": "Ty7DbdEG8mWQ"
      },
      "source": [
        "### Author\n",
        "Mohammad Ahmad (Research engineer intern)  \n",
        "LinkedIn - https://www.linkedin.com/in/mohammad-ahmad-ai/  \n",
        "Personal Blog - https://code-ml.com/  \n",
        "GitHub - https://github.com/ahmadkhan242  \n",
        "Twitter - https://twitter.com/ahmadkhan_242  "
      ]
    },
    {
      "cell_type": "code",
      "metadata": {
        "id": "5CV0Pm2U8wrT"
      },
      "source": [
        ""
      ],
      "execution_count": null,
      "outputs": []
    }
  ]
}